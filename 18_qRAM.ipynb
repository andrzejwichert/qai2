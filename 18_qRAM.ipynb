{
 "cells": [
  {
   "cell_type": "markdown",
   "metadata": {},
   "source": [
    "## Chapter 18:  qRAM\n",
    "### Qiskit 2.x\n",
    "\n",
    "In quantum machine learning domain the usage of quantum random access memory \\index{quantum random access memory} ($qRAM$)  is proposed to \n",
    "avoid input destruction problem (ID problem)\n",
    "\n",
    " A $qRAM$ queries a register $|i \\rangle$ and load the $i$th binary patter into the second register\n",
    "\\begin{equation}\n",
    "| i \\rangle |0 \\rangle \\rightarrow | i \\rangle |x^i \\rangle,\n",
    "\\end{equation}\n",
    "with $|x^i \\rangle$ being a basis state representing a binary vector. Such an operation can be executed in parallel with\n",
    "\\begin{equation}\n",
    "\\frac{1}{\\sqrt{m}}  \\sum_ {i=1}^m  | i \\rangle |0 \\rangle \\rightarrow \\frac{1}{\\sqrt{n}}  \\sum_ {i=1}^m   | i \\rangle |x^i \\rangle,\n",
    "\\end{equation}\n",
    "with the time complexity ignoring the preparation cost of (due to the input problem) is $O(\\log(m))$."
   ]
  },
  {
   "cell_type": "markdown",
   "metadata": {},
   "source": [
    "The method  of $qRAM$ is related to the entanglement of the index qubits that are in the superposition with the patterns. As in the method  of the entanglement of the index qubits the qubits of $qRAM$  are entangled during the reading operation and have to be un-computed after computation. An example of the $qRAM$ "
   ]
  },
  {
   "cell_type": "code",
   "execution_count": 1,
   "metadata": {},
   "outputs": [],
   "source": [
    "from qiskit import QuantumCircuit\n",
    "from qiskit_aer import AerSimulator, Aer\n",
    "from qiskit.visualization import plot_histogram\n",
    "from qiskit.visualization import plot_distribution "
   ]
  },
  {
   "cell_type": "code",
   "execution_count": 2,
   "metadata": {},
   "outputs": [
    {
     "data": {
      "text/html": [
       "<pre style=\"word-wrap: normal;white-space: pre;background: #fff0;line-height: 1.1;font-family: &quot;Courier New&quot;,Courier,monospace\">     ┌───┐ ░ ┌───┐     ┌───┐ ░                 ░ ┌───┐     ┌───┐ ░       ░  ░            ░            ░                 ░      \n",
       "q_0: ┤ H ├─░─┤ X ├──■──┤ X ├─░────────■────────░─┤ X ├──■──┤ X ├─░───■───░──░────────────░────────────░─────────────────░──────\n",
       "     └───┘ ░ ├───┤  │  ├───┤ ░ ┌───┐  │  ┌───┐ ░ └───┘  │  └───┘ ░   │   ░  ░            ░            ░                 ░      \n",
       "q_1: ──────░─┤ X ├──■──┤ X ├─░─┤ X ├──■──┤ X ├─░────────■────────░───■───░──░────────────░────────────░─────────────────░──────\n",
       "           ░ └───┘┌─┴─┐└───┘ ░ └───┘  │  └───┘ ░        │        ░   │   ░  ░            ░            ░                 ░      \n",
       "q_2: ──────░──────┤ X ├──────░────────┼────────░────────┼────────░───┼───░──░───■────■───░────────────░─────────────────░──────\n",
       "           ░      └───┘      ░      ┌─┴─┐      ░        │        ░   │   ░  ░   │    │   ░            ░                 ░      \n",
       "q_3: ──────░─────────────────░──────┤ X ├──────░────────┼────────░───┼───░──░───┼────┼───░───■────■───░─────────────────░──────\n",
       "           ░                 ░      └───┘      ░      ┌─┴─┐      ░   │   ░  ░   │    │   ░   │    │   ░                 ░      \n",
       "q_4: ──────░─────────────────░─────────────────░──────┤ X ├──────░───┼───░──░───┼────┼───░───┼────┼───░───■────■────■───░──────\n",
       "           ░                 ░                 ░      └───┘      ░ ┌─┴─┐ ░  ░   │    │   ░   │    │   ░   │    │    │   ░      \n",
       "q_5: ──────░─────────────────░─────────────────░─────────────────░─┤ X ├─░──░───┼────┼───░───┼────┼───░───┼────┼────┼───░───■──\n",
       "           ░                 ░                 ░                 ░ └───┘ ░  ░ ┌─┴─┐  │   ░ ┌─┴─┐  │   ░ ┌─┴─┐  │    │   ░   │  \n",
       "q_6: ──────░─────────────────░─────────────────░─────────────────░───────░──░─┤ X ├──┼───░─┤ X ├──┼───░─┤ X ├──┼────┼───░───┼──\n",
       "           ░                 ░                 ░                 ░       ░  ░ └───┘  │   ░ └───┘┌─┴─┐ ░ └───┘┌─┴─┐  │   ░ ┌─┴─┐\n",
       "q_7: ──────░─────────────────░─────────────────░─────────────────░───────░──░────────┼───░──────┤ X ├─░──────┤ X ├──┼───░─┤ X ├\n",
       "           ░                 ░                 ░                 ░       ░  ░      ┌─┴─┐ ░      └───┘ ░      └───┘┌─┴─┐ ░ └───┘\n",
       "q_8: ──────░─────────────────░─────────────────░─────────────────░───────░──░──────┤ X ├─░────────────░───────────┤ X ├─░──────\n",
       "           ░                 ░                 ░                 ░       ░  ░      └───┘ ░            ░           └───┘ ░      </pre>"
      ],
      "text/plain": [
       "     ┌───┐ ░ ┌───┐     ┌───┐ ░                 ░ ┌───┐     ┌───┐ ░       ░  ░            ░            ░                 ░      \n",
       "q_0: ┤ H ├─░─┤ X ├──■──┤ X ├─░────────■────────░─┤ X ├──■──┤ X ├─░───■───░──░────────────░────────────░─────────────────░──────\n",
       "     └───┘ ░ ├───┤  │  ├───┤ ░ ┌───┐  │  ┌───┐ ░ └───┘  │  └───┘ ░   │   ░  ░            ░            ░                 ░      \n",
       "q_1: ──────░─┤ X ├──■──┤ X ├─░─┤ X ├──■──┤ X ├─░────────■────────░───■───░──░────────────░────────────░─────────────────░──────\n",
       "           ░ └───┘┌─┴─┐└───┘ ░ └───┘  │  └───┘ ░        │        ░   │   ░  ░            ░            ░                 ░      \n",
       "q_2: ──────░──────┤ X ├──────░────────┼────────░────────┼────────░───┼───░──░───■────■───░────────────░─────────────────░──────\n",
       "           ░      └───┘      ░      ┌─┴─┐      ░        │        ░   │   ░  ░   │    │   ░            ░                 ░      \n",
       "q_3: ──────░─────────────────░──────┤ X ├──────░────────┼────────░───┼───░──░───┼────┼───░───■────■───░─────────────────░──────\n",
       "           ░                 ░      └───┘      ░      ┌─┴─┐      ░   │   ░  ░   │    │   ░   │    │   ░                 ░      \n",
       "q_4: ──────░─────────────────░─────────────────░──────┤ X ├──────░───┼───░──░───┼────┼───░───┼────┼───░───■────■────■───░──────\n",
       "           ░                 ░                 ░      └───┘      ░ ┌─┴─┐ ░  ░   │    │   ░   │    │   ░   │    │    │   ░      \n",
       "q_5: ──────░─────────────────░─────────────────░─────────────────░─┤ X ├─░──░───┼────┼───░───┼────┼───░───┼────┼────┼───░───■──\n",
       "           ░                 ░                 ░                 ░ └───┘ ░  ░ ┌─┴─┐  │   ░ ┌─┴─┐  │   ░ ┌─┴─┐  │    │   ░   │  \n",
       "q_6: ──────░─────────────────░─────────────────░─────────────────░───────░──░─┤ X ├──┼───░─┤ X ├──┼───░─┤ X ├──┼────┼───░───┼──\n",
       "           ░                 ░                 ░                 ░       ░  ░ └───┘  │   ░ └───┘┌─┴─┐ ░ └───┘┌─┴─┐  │   ░ ┌─┴─┐\n",
       "q_7: ──────░─────────────────░─────────────────░─────────────────░───────░──░────────┼───░──────┤ X ├─░──────┤ X ├──┼───░─┤ X ├\n",
       "           ░                 ░                 ░                 ░       ░  ░      ┌─┴─┐ ░      └───┘ ░      └───┘┌─┴─┐ ░ └───┘\n",
       "q_8: ──────░─────────────────░─────────────────░─────────────────░───────░──░──────┤ X ├─░────────────░───────────┤ X ├─░──────\n",
       "           ░                 ░                 ░                 ░       ░  ░      └───┘ ░            ░           └───┘ ░      "
      ]
     },
     "execution_count": 2,
     "metadata": {},
     "output_type": "execute_result"
    }
   ],
   "source": [
    "qc = QuantumCircuit(9)\n",
    "#address\n",
    "#0-1\n",
    "#Routing \n",
    "#2-5\n",
    "#Memory\n",
    "#6-8\n",
    "#address\n",
    "qc.h(0) #two first elements of the memory\n",
    "#Routing operation\n",
    "#The addresses are ordered  00, 01, 10, 11\n",
    "qc.barrier()\n",
    "qc.x(0)\n",
    "qc.x(1)\n",
    "qc.ccx(0,1,2)\n",
    "qc.x(1)\n",
    "qc.x(0)\n",
    "qc.barrier()\n",
    "qc.x(1)\n",
    "qc.ccx(0,1,3)\n",
    "qc.x(1)\n",
    "qc.barrier()\n",
    "qc.x(0)\n",
    "qc.ccx(0,1,4)\n",
    "qc.x(0)\n",
    "qc.barrier()\n",
    "qc.ccx(0,1,5)\n",
    "qc.barrier()\n",
    "#Memory cells 6-8\n",
    "#First memory cell\n",
    "qc.barrier()\n",
    "qc.cx(2,6)\n",
    "qc.cx(2,8)\n",
    "#Second memory cell\n",
    "qc.barrier()\n",
    "qc.cx(3,6)\n",
    "qc.cx(3,7)\n",
    "#Third memory cell\n",
    "qc.barrier()\n",
    "qc.cx(4,6)\n",
    "qc.cx(4,7)\n",
    "qc.cx(4,8)\n",
    "#Fourth memory cell\n",
    "qc.barrier()\n",
    "qc.cx(5,7)\n",
    "\n",
    "qc.draw(fold=160)"
   ]
  },
  {
   "cell_type": "markdown",
   "metadata": {},
   "source": [
    "$qRAM$ circuit: address is represented by qubits $0$ and $1$, routing by qubits $2$ to $5$ and the memory by qubits  $6$ to $8$. The addresses are ordered  $00$, $01$, $10$ and for the last pattern $11$."
   ]
  },
  {
   "cell_type": "code",
   "execution_count": 3,
   "metadata": {},
   "outputs": [
    {
     "name": "stdout",
     "output_type": "stream",
     "text": [
      "\n",
      "Total count are: {np.str_('011001001'): np.float64(0.499999999999999), np.str_('101000100'): np.float64(0.499999999999999)}\n"
     ]
    },
    {
     "data": {
      "image/png": "[encoded data removed]",
      "text/plain": [
       "<Figure size 700x500 with 1 Axes>"
      ]
     },
     "execution_count": 3,
     "metadata": {},
     "output_type": "execute_result"
    }
   ],
   "source": [
    "simulator = Aer.get_backend('statevector_simulator')\n",
    "result=simulator.run(qc.decompose()).result()\n",
    "counts = result.get_counts()\n",
    "print(\"\\nTotal count are:\",counts)\n",
    "plot_distribution(counts)"
   ]
  },
  {
   "cell_type": "markdown",
   "metadata": {},
   "source": [
    " The address corresponds to the first qubit in superposition, address $00$ and $01$. The first and the second pattern are recalled."
   ]
  }
 ],
 "metadata": {
  "kernelspec": {
   "display_name": "dwa",
   "language": "python",
   "name": "python3"
  },
  "language_info": {
   "codemirror_mode": {
    "name": "ipython",
    "version": 3
   },
   "file_extension": ".py",
   "mimetype": "text/x-python",
   "name": "python",
   "nbconvert_exporter": "python",
   "pygments_lexer": "ipython3",
   "version": "3.13.2"
  },
  "orig_nbformat": 4
 },
 "nbformat": 4,
 "nbformat_minor": 2
}
