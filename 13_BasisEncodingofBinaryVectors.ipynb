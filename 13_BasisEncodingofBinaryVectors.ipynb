{
 "cells": [
  {
   "cell_type": "markdown",
   "metadata": {},
   "source": [
    "# Chapter 13: Basis Encoding of Binary Vectors\n",
    "### Qiskit 2.x\n",
    "\n",
    " A set of binary vectors  is represent  by the  basis encoding. "
   ]
  },
  {
   "cell_type": "markdown",
   "metadata": {},
   "source": [
    "## Superpositions of Binary Patterns\n",
    "\n",
    "Mmethod that was developed  by Ventura and Martinez.\n",
    "\n",
    "In this example we store three binary patterns,\n",
    "$ |01 \\rangle_3,~~  |10 \\rangle_2,~~ |11 \\rangle_1 $\n",
    "\n",
    "$Qiskit$ uses little endian notation \n",
    "\n",
    "\\begin{equation}\n",
    "| memory; c_2, c_1; register   \\rangle = |q_5, q_4, q_3, q_2;  q_1, q_0  \\rangle, \n",
    "\\end{equation}\n",
    "\n",
    "Qubts $0$ and $1$ represent the  load register, qubits $2$ and $3$ are the control qubits  and the qubits $4$ and $5$ represent  the memory register.\n",
    "We use the \\textit{statevector simulator} to check the value of all $6$ qubits.\n",
    "The initial state is represented by the processing branch\n",
    "\\begin{equation}\n",
    "| \\psi   \\rangle_0 =  | 0, 0; 1, 0; 0, 0  \\rangle.\n",
    "\\end{equation}"
   ]
  },
  {
   "cell_type": "code",
   "execution_count": 2,
   "metadata": {},
   "outputs": [],
   "source": [
    "import numpy as np\n",
    "from qiskit import QuantumCircuit\n",
    "from qiskit_aer import AerSimulator, Aer\n",
    "from qiskit.quantum_info import Statevector\n",
    "from qiskit.visualization import plot_histogram\n",
    "from qiskit.visualization import plot_distribution \n",
    "from qiskit.circuit.library import MCXGate\n",
    "from math import pi"
   ]
  },
  {
   "cell_type": "markdown",
   "metadata": {},
   "source": [
    "The qubit $3$ is set to one indicating (by $c_2=1$), that the basis state represents a processing branch. The pattern   $|10 \\rangle$ is generated in the load register\n",
    "and the memory register is set to $|11\\rangle$."
   ]
  },
  {
   "cell_type": "code",
   "execution_count": 3,
   "metadata": {},
   "outputs": [
    {
     "data": {
      "text/html": [
       "<pre style=\"word-wrap: normal;white-space: pre;background: #fff0;line-height: 1.1;font-family: &quot;Courier New&quot;,Courier,monospace\">     ┌───┐ ░       ░ \n",
       "q_0: ┤ X ├─░───────░─\n",
       "     └───┘ ░       ░ \n",
       "q_1: ──────░───────░─\n",
       "           ░       ░ \n",
       "q_2: ──────░───────░─\n",
       "     ┌───┐ ░       ░ \n",
       "q_3: ┤ X ├─░───────░─\n",
       "     └───┘ ░ ┌───┐ ░ \n",
       "q_4: ──────░─┤ X ├─░─\n",
       "           ░ ├───┤ ░ \n",
       "q_5: ──────░─┤ X ├─░─\n",
       "           ░ └───┘ ░ </pre>"
      ],
      "text/plain": [
       "     ┌───┐ ░       ░ \n",
       "q_0: ┤ X ├─░───────░─\n",
       "     └───┘ ░       ░ \n",
       "q_1: ──────░───────░─\n",
       "           ░       ░ \n",
       "q_2: ──────░───────░─\n",
       "     ┌───┐ ░       ░ \n",
       "q_3: ┤ X ├─░───────░─\n",
       "     └───┘ ░ ┌───┐ ░ \n",
       "q_4: ──────░─┤ X ├─░─\n",
       "           ░ ├───┤ ░ \n",
       "q_5: ──────░─┤ X ├─░─\n",
       "           ░ └───┘ ░ "
      ]
     },
     "execution_count": 3,
     "metadata": {},
     "output_type": "execute_result"
    }
   ],
   "source": [
    "qc = QuantumCircuit(6)\n",
    "\n",
    "#0-1 loading register\n",
    "#2-3 control register\n",
    "#4-5 storage, memory \n",
    "\n",
    "qc.x(3)\n",
    "qc.x(0)\n",
    "\n",
    "qc.barrier()\n",
    "\n",
    "qc.x(4)\n",
    "qc.x(5)\n",
    "qc.barrier()\n",
    "\n",
    "qc.draw(fold=250)"
   ]
  },
  {
   "cell_type": "code",
   "execution_count": 4,
   "metadata": {},
   "outputs": [
    {
     "name": "stdout",
     "output_type": "stream",
     "text": [
      "\n",
      "Total count are: {np.str_('111001'): np.float64(1.0)}\n"
     ]
    },
    {
     "data": {
      "image/png": "[encoded data removed]",
      "text/plain": [
       "<Figure size 700x500 with 1 Axes>"
      ]
     },
     "execution_count": 4,
     "metadata": {},
     "output_type": "execute_result"
    }
   ],
   "source": [
    "simulator = Aer.get_backend('statevector_simulator')\n",
    "result=simulator.run(qc.decompose()).result()\n",
    "counts = result.get_counts()\n",
    "print(\"\\nTotal count are:\",counts)\n",
    "plot_distribution(counts)"
   ]
  },
  {
   "cell_type": "markdown",
   "metadata": {},
   "source": [
    "The resulting state is  $| \\psi   \\rangle_1 =   | 1, 1; 0, 1; 0, 1  \\rangle$"
   ]
  },
  {
   "cell_type": "markdown",
   "metadata": {},
   "source": [
    "The control qubit $2$ ($c_1=1$ ) is entangled with the memory register $|11\\rangle$ by  the multi-controlled X (Toffoli) gate.  \n",
    "The processing branch is split  by the operator $CS_3$ ($p=3$), creating a  new memory and  processing  branch. \n"
   ]
  },
  {
   "cell_type": "code",
   "execution_count": 5,
   "metadata": {},
   "outputs": [
    {
     "data": {
      "text/html": [
       "<pre style=\"word-wrap: normal;white-space: pre;background: #fff0;line-height: 1.1;font-family: &quot;Courier New&quot;,Courier,monospace\">     ┌───┐ ░       ░                        \n",
       "q_0: ┤ X ├─░───────░────────────────────────\n",
       "     └───┘ ░       ░                        \n",
       "q_1: ──────░───────░────────────────────────\n",
       "           ░       ░ ┌───┐                  \n",
       "q_2: ──────░───────░─┤ X ├────────■─────────\n",
       "     ┌───┐ ░       ░ └─┬─┘┌───────┴────────┐\n",
       "q_3: ┤ X ├─░───────░───┼──┤ U(1.231,π,π,0) ├\n",
       "     └───┘ ░ ┌───┐ ░   │  └────────────────┘\n",
       "q_4: ──────░─┤ X ├─░───■────────────────────\n",
       "           ░ ├───┤ ░   │                    \n",
       "q_5: ──────░─┤ X ├─░───■────────────────────\n",
       "           ░ └───┘ ░                        </pre>"
      ],
      "text/plain": [
       "     ┌───┐ ░       ░                        \n",
       "q_0: ┤ X ├─░───────░────────────────────────\n",
       "     └───┘ ░       ░                        \n",
       "q_1: ──────░───────░────────────────────────\n",
       "           ░       ░ ┌───┐                  \n",
       "q_2: ──────░───────░─┤ X ├────────■─────────\n",
       "     ┌───┐ ░       ░ └─┬─┘┌───────┴────────┐\n",
       "q_3: ┤ X ├─░───────░───┼──┤ U(1.231,π,π,0) ├\n",
       "     └───┘ ░ ┌───┐ ░   │  └────────────────┘\n",
       "q_4: ──────░─┤ X ├─░───■────────────────────\n",
       "           ░ ├───┤ ░   │                    \n",
       "q_5: ──────░─┤ X ├─░───■────────────────────\n",
       "           ░ └───┘ ░                        "
      ]
     },
     "execution_count": 5,
     "metadata": {},
     "output_type": "execute_result"
    }
   ],
   "source": [
    "qc = QuantumCircuit(6)\n",
    "\n",
    "#0-1 loading register\n",
    "#2-3 control register\n",
    "#4-5 storage, memory \n",
    "\n",
    "qc.x(3)\n",
    "qc.x(0)\n",
    "\n",
    "qc.barrier()\n",
    "\n",
    "qc.x(4)\n",
    "qc.x(5)\n",
    "qc.barrier()\n",
    "qc.ccx(4,5,2)\n",
    "\n",
    "qc.cu(1.230959417340775,pi,pi,0,2,3)\n",
    "\n",
    "qc.draw(fold=250)"
   ]
  },
  {
   "cell_type": "code",
   "execution_count": 6,
   "metadata": {},
   "outputs": [
    {
     "name": "stdout",
     "output_type": "stream",
     "text": [
      "\n",
      "Total count are: {np.str_('110101'): np.float64(0.333333333333333), np.str_('111101'): np.float64(0.666666666666666)}\n"
     ]
    },
    {
     "data": {
      "image/png": "[encoded data removed]",
      "text/plain": [
       "<Figure size 700x500 with 1 Axes>"
      ]
     },
     "execution_count": 6,
     "metadata": {},
     "output_type": "execute_result"
    }
   ],
   "source": [
    "simulator = Aer.get_backend('statevector_simulator')\n",
    "result=simulator.run(qc.decompose()).result()\n",
    "counts = result.get_counts()\n",
    "print(\"\\nTotal count are:\",counts)\n",
    "plot_distribution(counts)"
   ]
  },
  {
   "cell_type": "markdown",
   "metadata": {},
   "source": [
    "The resulting state is\n",
    " $| \\psi   \\rangle_2 =  \\frac{1}{\\sqrt{3}} | 1, 1; 0, 1; 0, 1  \\rangle +\\sqrt{\\frac{2}{3}} | 1, 1; 1, 1; 0, 1  \\rangle$."
   ]
  },
  {
   "cell_type": "markdown",
   "metadata": {},
   "source": [
    "We un-compute the entanglement of control qubit  $2$ ($c_1=1$) with the memory register $|11 \\rangle$ (using  the multi-controlled X (Toffoli) gate). We apply the NOT gates operation and the controlled NOT operation  (CNOT gate) to  the memory register of both branches. As result we write $10$ into the  memory registers."
   ]
  },
  {
   "cell_type": "code",
   "execution_count": 7,
   "metadata": {},
   "outputs": [
    {
     "data": {
      "text/html": [
       "<pre style=\"word-wrap: normal;white-space: pre;background: #fff0;line-height: 1.1;font-family: &quot;Courier New&quot;,Courier,monospace\">     ┌───┐ ░       ░                              ░                \n",
       "q_0: ┤ X ├─░───────░──────────────────────────────░─────────────■──\n",
       "     └───┘ ░       ░                              ░             │  \n",
       "q_1: ──────░───────░──────────────────────────────░────────■────┼──\n",
       "           ░       ░ ┌───┐                  ┌───┐ ░        │    │  \n",
       "q_2: ──────░───────░─┤ X ├────────■─────────┤ X ├─░────────┼────┼──\n",
       "     ┌───┐ ░       ░ └─┬─┘┌───────┴────────┐└─┬─┘ ░        │    │  \n",
       "q_3: ┤ X ├─░───────░───┼──┤ U(1.231,π,π,0) ├──┼───░────────┼────┼──\n",
       "     └───┘ ░ ┌───┐ ░   │  └────────────────┘  │   ░ ┌───┐  │  ┌─┴─┐\n",
       "q_4: ──────░─┤ X ├─░───■──────────────────────■───░─┤ X ├──┼──┤ X ├\n",
       "           ░ ├───┤ ░   │                      │   ░ ├───┤┌─┴─┐└───┘\n",
       "q_5: ──────░─┤ X ├─░───■──────────────────────■───░─┤ X ├┤ X ├─────\n",
       "           ░ └───┘ ░                              ░ └───┘└───┘     </pre>"
      ],
      "text/plain": [
       "     ┌───┐ ░       ░                              ░                \n",
       "q_0: ┤ X ├─░───────░──────────────────────────────░─────────────■──\n",
       "     └───┘ ░       ░                              ░             │  \n",
       "q_1: ──────░───────░──────────────────────────────░────────■────┼──\n",
       "           ░       ░ ┌───┐                  ┌───┐ ░        │    │  \n",
       "q_2: ──────░───────░─┤ X ├────────■─────────┤ X ├─░────────┼────┼──\n",
       "     ┌───┐ ░       ░ └─┬─┘┌───────┴────────┐└─┬─┘ ░        │    │  \n",
       "q_3: ┤ X ├─░───────░───┼──┤ U(1.231,π,π,0) ├──┼───░────────┼────┼──\n",
       "     └───┘ ░ ┌───┐ ░   │  └────────────────┘  │   ░ ┌───┐  │  ┌─┴─┐\n",
       "q_4: ──────░─┤ X ├─░───■──────────────────────■───░─┤ X ├──┼──┤ X ├\n",
       "           ░ ├───┤ ░   │                      │   ░ ├───┤┌─┴─┐└───┘\n",
       "q_5: ──────░─┤ X ├─░───■──────────────────────■───░─┤ X ├┤ X ├─────\n",
       "           ░ └───┘ ░                              ░ └───┘└───┘     "
      ]
     },
     "execution_count": 7,
     "metadata": {},
     "output_type": "execute_result"
    }
   ],
   "source": [
    "qc = QuantumCircuit(6)\n",
    "\n",
    "#0-1 loading register\n",
    "#2-3 control register\n",
    "#4-5 storage, memory \n",
    "\n",
    "qc.x(3)\n",
    "qc.x(0)\n",
    "\n",
    "qc.barrier()\n",
    "\n",
    "qc.x(4)\n",
    "qc.x(5)\n",
    "qc.barrier()\n",
    "\n",
    "qc.ccx(4,5,2)\n",
    "qc.cu(1.230959417340775,pi,pi,0,2,3)\n",
    "qc.ccx(4,5,2)\n",
    "qc.barrier()\n",
    "qc.x(4)\n",
    "qc.x(5)\n",
    "qc.cx(1,5)\n",
    "qc.cx(0,4)\n",
    "\n",
    "qc.draw(fold=250)"
   ]
  },
  {
   "cell_type": "code",
   "execution_count": 8,
   "metadata": {},
   "outputs": [
    {
     "name": "stdout",
     "output_type": "stream",
     "text": [
      "\n",
      "Total count are: {np.str_('010001'): np.float64(0.333333333333333), np.str_('011001'): np.float64(0.666666666666665)}\n"
     ]
    },
    {
     "data": {
      "image/png": "[encoded data removed]",
      "text/plain": [
       "<Figure size 700x500 with 1 Axes>"
      ]
     },
     "execution_count": 8,
     "metadata": {},
     "output_type": "execute_result"
    }
   ],
   "source": [
    "simulator = Aer.get_backend('statevector_simulator')\n",
    "result=simulator.run(qc.decompose()).result()\n",
    "counts = result.get_counts()\n",
    "print(\"\\nTotal count are:\",counts)\n",
    "plot_distribution(counts)"
   ]
  },
  {
   "cell_type": "markdown",
   "metadata": {},
   "source": [
    "The resulting state is\n",
    " $| \\psi   \\rangle_3 =  \\frac{1}{\\sqrt{3}} | 0, 1; 0, 0; 0, 1  \\rangle +\\sqrt{\\frac{2}{3}} | 0, 1; 1, 0; 0, 1  \\rangle$."
   ]
  },
  {
   "cell_type": "markdown",
   "metadata": {},
   "source": [
    "We un-compute the memory register of the processing branch, setting it to the the ground state $|00\\rangle$. We use the  ccX gate (CCNOT gate)  controlled by the load register and the control qubit $3$ ($c_2=1$ indicates the processing branch). We reset the load register to the ground state  $|00\\rangle$."
   ]
  },
  {
   "cell_type": "code",
   "execution_count": 9,
   "metadata": {},
   "outputs": [
    {
     "data": {
      "text/html": [
       "<pre style=\"word-wrap: normal;white-space: pre;background: #fff0;line-height: 1.1;font-family: &quot;Courier New&quot;,Courier,monospace\">     ┌───┐ ░       ░                              ░                 ░            ░ ┌───┐\n",
       "q_0: ┤ X ├─░───────░──────────────────────────────░─────────────■───░───■────────░─┤ X ├\n",
       "     └───┘ ░       ░                              ░             │   ░   │        ░ └───┘\n",
       "q_1: ──────░───────░──────────────────────────────░────────■────┼───░───┼────■───░──────\n",
       "           ░       ░ ┌───┐                  ┌───┐ ░        │    │   ░   │    │   ░      \n",
       "q_2: ──────░───────░─┤ X ├────────■─────────┤ X ├─░────────┼────┼───░───┼────┼───░──────\n",
       "     ┌───┐ ░       ░ └─┬─┘┌───────┴────────┐└─┬─┘ ░        │    │   ░   │    │   ░      \n",
       "q_3: ┤ X ├─░───────░───┼──┤ U(1.231,π,π,0) ├──┼───░────────┼────┼───░───■────■───░──────\n",
       "     └───┘ ░ ┌───┐ ░   │  └────────────────┘  │   ░ ┌───┐  │  ┌─┴─┐ ░ ┌─┴─┐  │   ░      \n",
       "q_4: ──────░─┤ X ├─░───■──────────────────────■───░─┤ X ├──┼──┤ X ├─░─┤ X ├──┼───░──────\n",
       "           ░ ├───┤ ░   │                      │   ░ ├───┤┌─┴─┐└───┘ ░ └───┘┌─┴─┐ ░      \n",
       "q_5: ──────░─┤ X ├─░───■──────────────────────■───░─┤ X ├┤ X ├──────░──────┤ X ├─░──────\n",
       "           ░ └───┘ ░                              ░ └───┘└───┘      ░      └───┘ ░      </pre>"
      ],
      "text/plain": [
       "     ┌───┐ ░       ░                              ░                 ░            ░ ┌───┐\n",
       "q_0: ┤ X ├─░───────░──────────────────────────────░─────────────■───░───■────────░─┤ X ├\n",
       "     └───┘ ░       ░                              ░             │   ░   │        ░ └───┘\n",
       "q_1: ──────░───────░──────────────────────────────░────────■────┼───░───┼────■───░──────\n",
       "           ░       ░ ┌───┐                  ┌───┐ ░        │    │   ░   │    │   ░      \n",
       "q_2: ──────░───────░─┤ X ├────────■─────────┤ X ├─░────────┼────┼───░───┼────┼───░──────\n",
       "     ┌───┐ ░       ░ └─┬─┘┌───────┴────────┐└─┬─┘ ░        │    │   ░   │    │   ░      \n",
       "q_3: ┤ X ├─░───────░───┼──┤ U(1.231,π,π,0) ├──┼───░────────┼────┼───░───■────■───░──────\n",
       "     └───┘ ░ ┌───┐ ░   │  └────────────────┘  │   ░ ┌───┐  │  ┌─┴─┐ ░ ┌─┴─┐  │   ░      \n",
       "q_4: ──────░─┤ X ├─░───■──────────────────────■───░─┤ X ├──┼──┤ X ├─░─┤ X ├──┼───░──────\n",
       "           ░ ├───┤ ░   │                      │   ░ ├───┤┌─┴─┐└───┘ ░ └───┘┌─┴─┐ ░      \n",
       "q_5: ──────░─┤ X ├─░───■──────────────────────■───░─┤ X ├┤ X ├──────░──────┤ X ├─░──────\n",
       "           ░ └───┘ ░                              ░ └───┘└───┘      ░      └───┘ ░      "
      ]
     },
     "execution_count": 9,
     "metadata": {},
     "output_type": "execute_result"
    }
   ],
   "source": [
    "qc = QuantumCircuit(6)\n",
    "\n",
    "#0-1 loading register\n",
    "#2-3 control register\n",
    "#4-5 storage, memory \n",
    "\n",
    "qc.x(3)\n",
    "qc.x(0)\n",
    "\n",
    "qc.barrier()\n",
    "\n",
    "qc.x(4)\n",
    "qc.x(5)\n",
    "qc.barrier()\n",
    "\n",
    "qc.ccx(4,5,2)\n",
    "qc.cu(1.230959417340775,pi,pi,0,2,3)\n",
    "qc.ccx(4,5,2)\n",
    "qc.barrier()\n",
    "qc.x(4)\n",
    "qc.x(5)\n",
    "#Save\n",
    "qc.cx(1,5)\n",
    "qc.cx(0,4)\n",
    "\n",
    "#Reset\n",
    "qc.barrier()\n",
    "qc.ccx(0,3,4)\n",
    "qc.ccx(1,3,5)\n",
    "\n",
    "qc.barrier()\n",
    "qc.x(0)\n",
    "\n",
    "\n",
    "qc.draw(fold=250)"
   ]
  },
  {
   "cell_type": "code",
   "execution_count": 10,
   "metadata": {},
   "outputs": [
    {
     "name": "stdout",
     "output_type": "stream",
     "text": [
      "\n",
      "Total count are: {np.str_('001000'): np.float64(0.666666666666664), np.str_('010000'): np.float64(0.333333333333333)}\n"
     ]
    },
    {
     "data": {
      "image/png": "[encoded data removed]",
      "text/plain": [
       "<Figure size 700x500 with 1 Axes>"
      ]
     },
     "execution_count": 10,
     "metadata": {},
     "output_type": "execute_result"
    }
   ],
   "source": [
    "simulator = Aer.get_backend('statevector_simulator')\n",
    "result=simulator.run(qc.decompose()).result()\n",
    "counts = result.get_counts()\n",
    "print(\"\\nTotal count are:\",counts)\n",
    "plot_distribution(counts)\n"
   ]
  },
  {
   "cell_type": "markdown",
   "metadata": {},
   "source": [
    "The resulting state is\n",
    " $| \\psi  \\rangle_4 =  \\frac{1}{\\sqrt{3}} | 0, 1; 0, 0; 0, 0  \\rangle +\\sqrt{\\frac{2}{3}} | 0, 0; 1, 0; 0, 0  \\rangle$"
   ]
  },
  {
   "cell_type": "markdown",
   "metadata": {},
   "source": [
    "The pattern   $|10 \\rangle$ is generated in the load register. We copy $|10 \\rangle$ into the memory register of the processing branch (the  memory register before the operation  is in the ground state). We use the  ccX gate (CCNOT gate)  controlled by the load register and the control qubit $3$ ($c_2=1$ indicates the processing branch). "
   ]
  },
  {
   "cell_type": "code",
   "execution_count": 11,
   "metadata": {},
   "outputs": [
    {
     "data": {
      "text/html": [
       "<pre style=\"word-wrap: normal;white-space: pre;background: #fff0;line-height: 1.1;font-family: &quot;Courier New&quot;,Courier,monospace\">     ┌───┐ ░       ░                              ░                 ░            ░ ┌───┐ ░       ░            ░ \n",
       "q_0: ┤ X ├─░───────░──────────────────────────────░─────────────■───░───■────────░─┤ X ├─░───────░───■────────░─\n",
       "     └───┘ ░       ░                              ░             │   ░   │        ░ └───┘ ░ ┌───┐ ░   │        ░ \n",
       "q_1: ──────░───────░──────────────────────────────░────────■────┼───░───┼────■───░───────░─┤ X ├─░───┼────■───░─\n",
       "           ░       ░ ┌───┐                  ┌───┐ ░        │    │   ░   │    │   ░       ░ └───┘ ░   │    │   ░ \n",
       "q_2: ──────░───────░─┤ X ├────────■─────────┤ X ├─░────────┼────┼───░───┼────┼───░───────░───────░───┼────┼───░─\n",
       "     ┌───┐ ░       ░ └─┬─┘┌───────┴────────┐└─┬─┘ ░        │    │   ░   │    │   ░       ░       ░   │    │   ░ \n",
       "q_3: ┤ X ├─░───────░───┼──┤ U(1.231,π,π,0) ├──┼───░────────┼────┼───░───■────■───░───────░───────░───■────■───░─\n",
       "     └───┘ ░ ┌───┐ ░   │  └────────────────┘  │   ░ ┌───┐  │  ┌─┴─┐ ░ ┌─┴─┐  │   ░       ░       ░ ┌─┴─┐  │   ░ \n",
       "q_4: ──────░─┤ X ├─░───■──────────────────────■───░─┤ X ├──┼──┤ X ├─░─┤ X ├──┼───░───────░───────░─┤ X ├──┼───░─\n",
       "           ░ ├───┤ ░   │                      │   ░ ├───┤┌─┴─┐└───┘ ░ └───┘┌─┴─┐ ░       ░       ░ └───┘┌─┴─┐ ░ \n",
       "q_5: ──────░─┤ X ├─░───■──────────────────────■───░─┤ X ├┤ X ├──────░──────┤ X ├─░───────░───────░──────┤ X ├─░─\n",
       "           ░ └───┘ ░                              ░ └───┘└───┘      ░      └───┘ ░       ░       ░      └───┘ ░ </pre>"
      ],
      "text/plain": [
       "     ┌───┐ ░       ░                              ░                 ░            ░ ┌───┐ ░       ░            ░ \n",
       "q_0: ┤ X ├─░───────░──────────────────────────────░─────────────■───░───■────────░─┤ X ├─░───────░───■────────░─\n",
       "     └───┘ ░       ░                              ░             │   ░   │        ░ └───┘ ░ ┌───┐ ░   │        ░ \n",
       "q_1: ──────░───────░──────────────────────────────░────────■────┼───░───┼────■───░───────░─┤ X ├─░───┼────■───░─\n",
       "           ░       ░ ┌───┐                  ┌───┐ ░        │    │   ░   │    │   ░       ░ └───┘ ░   │    │   ░ \n",
       "q_2: ──────░───────░─┤ X ├────────■─────────┤ X ├─░────────┼────┼───░───┼────┼───░───────░───────░───┼────┼───░─\n",
       "     ┌───┐ ░       ░ └─┬─┘┌───────┴────────┐└─┬─┘ ░        │    │   ░   │    │   ░       ░       ░   │    │   ░ \n",
       "q_3: ┤ X ├─░───────░───┼──┤ U(1.231,π,π,0) ├──┼───░────────┼────┼───░───■────■───░───────░───────░───■────■───░─\n",
       "     └───┘ ░ ┌───┐ ░   │  └────────────────┘  │   ░ ┌───┐  │  ┌─┴─┐ ░ ┌─┴─┐  │   ░       ░       ░ ┌─┴─┐  │   ░ \n",
       "q_4: ──────░─┤ X ├─░───■──────────────────────■───░─┤ X ├──┼──┤ X ├─░─┤ X ├──┼───░───────░───────░─┤ X ├──┼───░─\n",
       "           ░ ├───┤ ░   │                      │   ░ ├───┤┌─┴─┐└───┘ ░ └───┘┌─┴─┐ ░       ░       ░ └───┘┌─┴─┐ ░ \n",
       "q_5: ──────░─┤ X ├─░───■──────────────────────■───░─┤ X ├┤ X ├──────░──────┤ X ├─░───────░───────░──────┤ X ├─░─\n",
       "           ░ └───┘ ░                              ░ └───┘└───┘      ░      └───┘ ░       ░       ░      └───┘ ░ "
      ]
     },
     "execution_count": 11,
     "metadata": {},
     "output_type": "execute_result"
    }
   ],
   "source": [
    "qc = QuantumCircuit(6)\n",
    "\n",
    "#0-1 loading register\n",
    "#2-3 control register\n",
    "#4-5 storage, memory \n",
    "\n",
    "qc.x(3)\n",
    "qc.x(0)\n",
    "\n",
    "qc.barrier()\n",
    "\n",
    "qc.x(4)\n",
    "qc.x(5)\n",
    "qc.barrier()\n",
    "qc.ccx(4,5,2)\n",
    "qc.cu(1.230959417340775,pi,pi,0,2,3)\n",
    "qc.ccx(4,5,2)\n",
    "qc.barrier()\n",
    "qc.x(4)\n",
    "qc.x(5)\n",
    "qc.cx(1,5)\n",
    "qc.cx(0,4)\n",
    "#Uncompute\n",
    "qc.barrier()\n",
    "qc.ccx(0,3,4)\n",
    "qc.ccx(1,3,5)\n",
    "\n",
    "qc.barrier()\n",
    "qc.x(0)\n",
    "\n",
    "qc.barrier()\n",
    "#qc.x(0)\n",
    "qc.x(1)\n",
    "\n",
    "qc.barrier()\n",
    "\n",
    "qc.ccx(0,3,4)\n",
    "qc.ccx(1,3,5)\n",
    "qc.barrier()\n",
    "\n",
    "\n",
    "qc.draw(fold=230)"
   ]
  },
  {
   "cell_type": "code",
   "execution_count": 12,
   "metadata": {},
   "outputs": [
    {
     "name": "stdout",
     "output_type": "stream",
     "text": [
      "\n",
      "Total count are: {np.str_('010010'): np.float64(0.333333333333332), np.str_('101010'): np.float64(0.666666666666664)}\n"
     ]
    },
    {
     "data": {
      "image/png": "[encoded data removed]",
      "text/plain": [
       "<Figure size 700x500 with 1 Axes>"
      ]
     },
     "execution_count": 12,
     "metadata": {},
     "output_type": "execute_result"
    }
   ],
   "source": [
    "simulator = Aer.get_backend('statevector_simulator')\n",
    "result=simulator.run(qc.decompose()).result()\n",
    "counts = result.get_counts()\n",
    "print(\"\\nTotal count are:\",counts)\n",
    "plot_distribution(counts)"
   ]
  },
  {
   "cell_type": "markdown",
   "metadata": {},
   "source": [
    "The resulting state is\n",
    " $| \\psi  \\rangle_5 =  \\frac{1}{\\sqrt{3}} | 0, 1; 0, 0; 1, 0  \\rangle +\\sqrt{\\frac{2}{3}} | 1, 0; 1, 0; 1, 0  \\rangle$.\n"
   ]
  },
  {
   "cell_type": "markdown",
   "metadata": {},
   "source": [
    "We perform the controlled NOT operation controlled by the pattern  $|10 \\rangle$ with the memory register of both branches using  cX gate. As a result  the memory register  of the processing branch is in the ground state $|00\\rangle$. This is not the  case for the memory  register of memory  branch, where the bits are flipped leading to the state $|11 \\rangle$.\n",
    "We apply the NOT operation to the memory register of bot branches.\n",
    "As a result  the  memory register of the processing branch is in the state  $|11 \\rangle$. The control qubit $2$ ($c_1=1$ ) is entangled with the memory register $|11\\rangle$ by the multi-controlled X gate.  \n"
   ]
  },
  {
   "cell_type": "code",
   "execution_count": 13,
   "metadata": {},
   "outputs": [
    {
     "data": {
      "text/html": [
       "<pre style=\"word-wrap: normal;white-space: pre;background: #fff0;line-height: 1.1;font-family: &quot;Courier New&quot;,Courier,monospace\">     ┌───┐ ░       ░                              ░                 ░            ░ ┌───┐ ░       ░            ░            ░       ░      \n",
       "q_0: ┤ X ├─░───────░──────────────────────────────░─────────────■───░───■────────░─┤ X ├─░───────░───■────────░────────■───░───────░──────\n",
       "     └───┘ ░       ░                              ░             │   ░   │        ░ └───┘ ░ ┌───┐ ░   │        ░        │   ░       ░      \n",
       "q_1: ──────░───────░──────────────────────────────░────────■────┼───░───┼────■───░───────░─┤ X ├─░───┼────■───░───■────┼───░───────░──────\n",
       "           ░       ░ ┌───┐                  ┌───┐ ░        │    │   ░   │    │   ░       ░ └───┘ ░   │    │   ░   │    │   ░       ░ ┌───┐\n",
       "q_2: ──────░───────░─┤ X ├────────■─────────┤ X ├─░────────┼────┼───░───┼────┼───░───────░───────░───┼────┼───░───┼────┼───░───────░─┤ X ├\n",
       "     ┌───┐ ░       ░ └─┬─┘┌───────┴────────┐└─┬─┘ ░        │    │   ░   │    │   ░       ░       ░   │    │   ░   │    │   ░       ░ └─┬─┘\n",
       "q_3: ┤ X ├─░───────░───┼──┤ U(1.231,π,π,0) ├──┼───░────────┼────┼───░───■────■───░───────░───────░───■────■───░───┼────┼───░───────░───┼──\n",
       "     └───┘ ░ ┌───┐ ░   │  └────────────────┘  │   ░ ┌───┐  │  ┌─┴─┐ ░ ┌─┴─┐  │   ░       ░       ░ ┌─┴─┐  │   ░   │  ┌─┴─┐ ░ ┌───┐ ░   │  \n",
       "q_4: ──────░─┤ X ├─░───■──────────────────────■───░─┤ X ├──┼──┤ X ├─░─┤ X ├──┼───░───────░───────░─┤ X ├──┼───░───┼──┤ X ├─░─┤ X ├─░───■──\n",
       "           ░ ├───┤ ░   │                      │   ░ ├───┤┌─┴─┐└───┘ ░ └───┘┌─┴─┐ ░       ░       ░ └───┘┌─┴─┐ ░ ┌─┴─┐└───┘ ░ ├───┤ ░   │  \n",
       "q_5: ──────░─┤ X ├─░───■──────────────────────■───░─┤ X ├┤ X ├──────░──────┤ X ├─░───────░───────░──────┤ X ├─░─┤ X ├──────░─┤ X ├─░───■──\n",
       "           ░ └───┘ ░                              ░ └───┘└───┘      ░      └───┘ ░       ░       ░      └───┘ ░ └───┘      ░ └───┘ ░      </pre>"
      ],
      "text/plain": [
       "     ┌───┐ ░       ░                              ░                 ░            ░ ┌───┐ ░       ░            ░            ░       ░      \n",
       "q_0: ┤ X ├─░───────░──────────────────────────────░─────────────■───░───■────────░─┤ X ├─░───────░───■────────░────────■───░───────░──────\n",
       "     └───┘ ░       ░                              ░             │   ░   │        ░ └───┘ ░ ┌───┐ ░   │        ░        │   ░       ░      \n",
       "q_1: ──────░───────░──────────────────────────────░────────■────┼───░───┼────■───░───────░─┤ X ├─░───┼────■───░───■────┼───░───────░──────\n",
       "           ░       ░ ┌───┐                  ┌───┐ ░        │    │   ░   │    │   ░       ░ └───┘ ░   │    │   ░   │    │   ░       ░ ┌───┐\n",
       "q_2: ──────░───────░─┤ X ├────────■─────────┤ X ├─░────────┼────┼───░───┼────┼───░───────░───────░───┼────┼───░───┼────┼───░───────░─┤ X ├\n",
       "     ┌───┐ ░       ░ └─┬─┘┌───────┴────────┐└─┬─┘ ░        │    │   ░   │    │   ░       ░       ░   │    │   ░   │    │   ░       ░ └─┬─┘\n",
       "q_3: ┤ X ├─░───────░───┼──┤ U(1.231,π,π,0) ├──┼───░────────┼────┼───░───■────■───░───────░───────░───■────■───░───┼────┼───░───────░───┼──\n",
       "     └───┘ ░ ┌───┐ ░   │  └────────────────┘  │   ░ ┌───┐  │  ┌─┴─┐ ░ ┌─┴─┐  │   ░       ░       ░ ┌─┴─┐  │   ░   │  ┌─┴─┐ ░ ┌───┐ ░   │  \n",
       "q_4: ──────░─┤ X ├─░───■──────────────────────■───░─┤ X ├──┼──┤ X ├─░─┤ X ├──┼───░───────░───────░─┤ X ├──┼───░───┼──┤ X ├─░─┤ X ├─░───■──\n",
       "           ░ ├───┤ ░   │                      │   ░ ├───┤┌─┴─┐└───┘ ░ └───┘┌─┴─┐ ░       ░       ░ └───┘┌─┴─┐ ░ ┌─┴─┐└───┘ ░ ├───┤ ░   │  \n",
       "q_5: ──────░─┤ X ├─░───■──────────────────────■───░─┤ X ├┤ X ├──────░──────┤ X ├─░───────░───────░──────┤ X ├─░─┤ X ├──────░─┤ X ├─░───■──\n",
       "           ░ └───┘ ░                              ░ └───┘└───┘      ░      └───┘ ░       ░       ░      └───┘ ░ └───┘      ░ └───┘ ░      "
      ]
     },
     "execution_count": 13,
     "metadata": {},
     "output_type": "execute_result"
    }
   ],
   "source": [
    "qc = QuantumCircuit(6)\n",
    "\n",
    "#0-1 loading register\n",
    "#2-3 control register\n",
    "#4-5 storage, memory \n",
    "\n",
    "qc.x(3)\n",
    "qc.x(0)\n",
    "\n",
    "qc.barrier()\n",
    "\n",
    "qc.x(4)\n",
    "qc.x(5)\n",
    "\n",
    "qc.barrier()\n",
    "qc.ccx(4,5,2)\n",
    "qc.cu(1.230959417340775,pi,pi,0,2,3)\n",
    "qc.ccx(4,5,2)\n",
    "qc.barrier()\n",
    "qc.x(4)\n",
    "qc.x(5)\n",
    "qc.cx(1,5)\n",
    "qc.cx(0,4)\n",
    "#Uncompute\n",
    "qc.barrier()\n",
    "qc.ccx(0,3,4)\n",
    "qc.ccx(1,3,5)\n",
    "\n",
    "qc.barrier()\n",
    "qc.x(0)\n",
    "\n",
    "qc.barrier()\n",
    "#qc.x(0)\n",
    "qc.x(1)\n",
    "\n",
    "qc.barrier()\n",
    "\n",
    "qc.ccx(0,3,4)\n",
    "qc.ccx(1,3,5)\n",
    "qc.barrier()\n",
    "qc.cx(1,5)\n",
    "qc.cx(0,4)\n",
    "qc.barrier()\n",
    "\n",
    "qc.x(4)\n",
    "qc.x(5)\n",
    "\n",
    "qc.barrier()\n",
    "qc.ccx(4,5,2)\n",
    "\n",
    "\n",
    "\n",
    "qc.draw(fold=230)"
   ]
  },
  {
   "cell_type": "code",
   "execution_count": 14,
   "metadata": {},
   "outputs": [
    {
     "name": "stdout",
     "output_type": "stream",
     "text": [
      "\n",
      "Total count are: {np.str_('000010'): np.float64(0.333333333333332), np.str_('111110'): np.float64(0.666666666666663)}\n"
     ]
    },
    {
     "data": {
      "image/png": "[encoded data removed]",
      "text/plain": [
       "<Figure size 700x500 with 1 Axes>"
      ]
     },
     "execution_count": 14,
     "metadata": {},
     "output_type": "execute_result"
    }
   ],
   "source": [
    "simulator = Aer.get_backend('statevector_simulator')\n",
    "result=simulator.run(qc.decompose()).result()\n",
    "counts = result.get_counts()\n",
    "print(\"\\nTotal count are:\",counts)\n",
    "plot_distribution(counts)"
   ]
  },
  {
   "cell_type": "markdown",
   "metadata": {},
   "source": [
    "The resulting state is\n",
    " $| \\psi  \\rangle_6 =  \\frac{1}{\\sqrt{3}} | 0, 0; 0, 0; 1, 0  \\rangle +\\sqrt{\\frac{2}{3}} | 1, 1; 1, 1; 1, 0  \\rangle $."
   ]
  },
  {
   "cell_type": "markdown",
   "metadata": {},
   "source": [
    "he control qubit $2$ ($c_1=1$ ) is entangled with the memory register $|11\\rangle$ of the proscessing ranch by  the multi-controlled X (Toffoli) gate.  \n",
    "The processing branch is split  by the operator $CS_2$ ($p=2$), creating a  new memory  branch. "
   ]
  },
  {
   "cell_type": "code",
   "execution_count": 15,
   "metadata": {},
   "outputs": [
    {
     "data": {
      "text/html": [
       "<pre style=\"word-wrap: normal;white-space: pre;background: #fff0;line-height: 1.1;font-family: &quot;Courier New&quot;,Courier,monospace\">     ┌───┐ ░       ░                              ░                 ░            ░ ┌───┐ ░       ░            ░            ░       ░                      \n",
       "q_0: ┤ X ├─░───────░──────────────────────────────░─────────────■───░───■────────░─┤ X ├─░───────░───■────────░────────■───░───────░──────────────────────\n",
       "     └───┘ ░       ░                              ░             │   ░   │        ░ └───┘ ░ ┌───┐ ░   │        ░        │   ░       ░                      \n",
       "q_1: ──────░───────░──────────────────────────────░────────■────┼───░───┼────■───░───────░─┤ X ├─░───┼────■───░───■────┼───░───────░──────────────────────\n",
       "           ░       ░ ┌───┐                  ┌───┐ ░        │    │   ░   │    │   ░       ░ └───┘ ░   │    │   ░   │    │   ░       ░ ┌───┐                \n",
       "q_2: ──────░───────░─┤ X ├────────■─────────┤ X ├─░────────┼────┼───░───┼────┼───░───────░───────░───┼────┼───░───┼────┼───░───────░─┤ X ├───────■────────\n",
       "     ┌───┐ ░       ░ └─┬─┘┌───────┴────────┐└─┬─┘ ░        │    │   ░   │    │   ░       ░       ░   │    │   ░   │    │   ░       ░ └─┬─┘┌──────┴───────┐\n",
       "q_3: ┤ X ├─░───────░───┼──┤ U(1.231,π,π,0) ├──┼───░────────┼────┼───░───■────■───░───────░───────░───■────■───░───┼────┼───░───────░───┼──┤ U(π/2,π,π,0) ├\n",
       "     └───┘ ░ ┌───┐ ░   │  └────────────────┘  │   ░ ┌───┐  │  ┌─┴─┐ ░ ┌─┴─┐  │   ░       ░       ░ ┌─┴─┐  │   ░   │  ┌─┴─┐ ░ ┌───┐ ░   │  └──────────────┘\n",
       "q_4: ──────░─┤ X ├─░───■──────────────────────■───░─┤ X ├──┼──┤ X ├─░─┤ X ├──┼───░───────░───────░─┤ X ├──┼───░───┼──┤ X ├─░─┤ X ├─░───■──────────────────\n",
       "           ░ ├───┤ ░   │                      │   ░ ├───┤┌─┴─┐└───┘ ░ └───┘┌─┴─┐ ░       ░       ░ └───┘┌─┴─┐ ░ ┌─┴─┐└───┘ ░ ├───┤ ░   │                  \n",
       "q_5: ──────░─┤ X ├─░───■──────────────────────■───░─┤ X ├┤ X ├──────░──────┤ X ├─░───────░───────░──────┤ X ├─░─┤ X ├──────░─┤ X ├─░───■──────────────────\n",
       "           ░ └───┘ ░                              ░ └───┘└───┘      ░      └───┘ ░       ░       ░      └───┘ ░ └───┘      ░ └───┘ ░                      </pre>"
      ],
      "text/plain": [
       "     ┌───┐ ░       ░                              ░                 ░            ░ ┌───┐ ░       ░            ░            ░       ░                      \n",
       "q_0: ┤ X ├─░───────░──────────────────────────────░─────────────■───░───■────────░─┤ X ├─░───────░───■────────░────────■───░───────░──────────────────────\n",
       "     └───┘ ░       ░                              ░             │   ░   │        ░ └───┘ ░ ┌───┐ ░   │        ░        │   ░       ░                      \n",
       "q_1: ──────░───────░──────────────────────────────░────────■────┼───░───┼────■───░───────░─┤ X ├─░───┼────■───░───■────┼───░───────░──────────────────────\n",
       "           ░       ░ ┌───┐                  ┌───┐ ░        │    │   ░   │    │   ░       ░ └───┘ ░   │    │   ░   │    │   ░       ░ ┌───┐                \n",
       "q_2: ──────░───────░─┤ X ├────────■─────────┤ X ├─░────────┼────┼───░───┼────┼───░───────░───────░───┼────┼───░───┼────┼───░───────░─┤ X ├───────■────────\n",
       "     ┌───┐ ░       ░ └─┬─┘┌───────┴────────┐└─┬─┘ ░        │    │   ░   │    │   ░       ░       ░   │    │   ░   │    │   ░       ░ └─┬─┘┌──────┴───────┐\n",
       "q_3: ┤ X ├─░───────░───┼──┤ U(1.231,π,π,0) ├──┼───░────────┼────┼───░───■────■───░───────░───────░───■────■───░───┼────┼───░───────░───┼──┤ U(π/2,π,π,0) ├\n",
       "     └───┘ ░ ┌───┐ ░   │  └────────────────┘  │   ░ ┌───┐  │  ┌─┴─┐ ░ ┌─┴─┐  │   ░       ░       ░ ┌─┴─┐  │   ░   │  ┌─┴─┐ ░ ┌───┐ ░   │  └──────────────┘\n",
       "q_4: ──────░─┤ X ├─░───■──────────────────────■───░─┤ X ├──┼──┤ X ├─░─┤ X ├──┼───░───────░───────░─┤ X ├──┼───░───┼──┤ X ├─░─┤ X ├─░───■──────────────────\n",
       "           ░ ├───┤ ░   │                      │   ░ ├───┤┌─┴─┐└───┘ ░ └───┘┌─┴─┐ ░       ░       ░ └───┘┌─┴─┐ ░ ┌─┴─┐└───┘ ░ ├───┤ ░   │                  \n",
       "q_5: ──────░─┤ X ├─░───■──────────────────────■───░─┤ X ├┤ X ├──────░──────┤ X ├─░───────░───────░──────┤ X ├─░─┤ X ├──────░─┤ X ├─░───■──────────────────\n",
       "           ░ └───┘ ░                              ░ └───┘└───┘      ░      └───┘ ░       ░       ░      └───┘ ░ └───┘      ░ └───┘ ░                      "
      ]
     },
     "execution_count": 15,
     "metadata": {},
     "output_type": "execute_result"
    }
   ],
   "source": [
    "qc = QuantumCircuit(6)\n",
    "\n",
    "#0-1 loading register\n",
    "#2-3 control register\n",
    "#4-5 storage, memory \n",
    "\n",
    "qc.x(3)\n",
    "qc.x(0)\n",
    "\n",
    "qc.barrier()\n",
    "\n",
    "qc.x(4)\n",
    "qc.x(5)\n",
    "qc.barrier()\n",
    "\n",
    "qc.ccx(4,5,2)\n",
    "qc.cu(1.230959417340775,pi,pi,0,2,3)\n",
    "qc.ccx(4,5,2)\n",
    "qc.barrier()\n",
    "qc.x(4)\n",
    "qc.x(5)\n",
    "qc.cx(1,5)\n",
    "qc.cx(0,4)\n",
    "#Uncompute\n",
    "qc.barrier()\n",
    "qc.ccx(0,3,4)\n",
    "qc.ccx(1,3,5)\n",
    "\n",
    "qc.barrier()\n",
    "qc.x(0)\n",
    "\n",
    "qc.barrier()\n",
    "#qc.x(0)\n",
    "qc.x(1)\n",
    "\n",
    "qc.barrier()\n",
    "\n",
    "qc.ccx(0,3,4)\n",
    "qc.ccx(1,3,5)\n",
    "qc.barrier()\n",
    "qc.cx(1,5)\n",
    "qc.cx(0,4)\n",
    "qc.barrier()\n",
    "\n",
    "qc.x(4)\n",
    "qc.x(5)\n",
    "\n",
    "qc.barrier()\n",
    "qc.ccx(4,5,2)\n",
    "\n",
    "qc.cu(1.5707963267948966,pi,pi,0,2,3)\n",
    "\n",
    "\n",
    "\n",
    "qc.draw(fold=230)"
   ]
  },
  {
   "cell_type": "code",
   "execution_count": 16,
   "metadata": {},
   "outputs": [
    {
     "name": "stdout",
     "output_type": "stream",
     "text": [
      "\n",
      "Total count are: {np.str_('000010'): np.float64(0.333333333333332), np.str_('110110'): np.float64(0.333333333333332), np.str_('111110'): np.float64(0.333333333333332)}\n"
     ]
    },
    {
     "data": {
      "image/png": "[encoded data removed]",
      "text/plain": [
       "<Figure size 700x500 with 1 Axes>"
      ]
     },
     "execution_count": 16,
     "metadata": {},
     "output_type": "execute_result"
    }
   ],
   "source": [
    "simulator = Aer.get_backend('statevector_simulator')\n",
    "result=simulator.run(qc.decompose()).result()\n",
    "counts = result.get_counts()\n",
    "print(\"\\nTotal count are:\",counts)\n",
    "plot_distribution(counts)\n"
   ]
  },
  {
   "cell_type": "markdown",
   "metadata": {},
   "source": [
    "The resulting state is\n",
    " $| \\psi  \\rangle_7 =  \\frac{1}{\\sqrt{3}} | 0, 0; 0, 0; 1, 0  \\rangle + \\frac{1}{\\sqrt{3}} | 1, 1; 0, 1; 1, 0  \\rangle + \\frac{1}{\\sqrt{3}} | 1, 1; 1, 1; 1, 0  \\rangle$."
   ]
  },
  {
   "cell_type": "markdown",
   "metadata": {},
   "source": [
    "We un-compute the entanglement of control qubit  $2$ ($c_1=1$) with the memory register $|11\\rangle$ (using  the multi-controlled X (Toffoli) gate). We apply the NOT gates operation and the controlled NOT operation  (CNOT gate) to  the memory register  of the three branches. As result we un-flip (recover)   the memory register of the first memory branch to $|01 \\rangle$ and copy $|10 \\rangle$ into the  memory register of the other two branch. We un-compute the memory register of the processing branch, setting it to the the ground state $|00\\rangle$. We use the  ccX gate (CCNOT gate)  controlled by the load register and the control qubit $3$ ($c_2=1$ indicates the processing branch). We reset the load register to the ground state  $|00\\rangle$."
   ]
  },
  {
   "cell_type": "code",
   "execution_count": 17,
   "metadata": {},
   "outputs": [
    {
     "data": {
      "text/html": [
       "<pre style=\"word-wrap: normal;white-space: pre;background: #fff0;line-height: 1.1;font-family: &quot;Courier New&quot;,Courier,monospace\">     ┌───┐ ░       ░                              ░                 ░            ░ ┌───┐ ░       ░            ░            ░       ░                            ░                 ░                \n",
       "q_0: ┤ X ├─░───────░──────────────────────────────░─────────────■───░───■────────░─┤ X ├─░───────░───■────────░────────■───░───────░────────────────────────────░─────────────■───░───■────────────\n",
       "     └───┘ ░       ░                              ░             │   ░   │        ░ └───┘ ░ ┌───┐ ░   │        ░        │   ░       ░                            ░             │   ░   │       ┌───┐\n",
       "q_1: ──────░───────░──────────────────────────────░────────■────┼───░───┼────■───░───────░─┤ X ├─░───┼────■───░───■────┼───░───────░────────────────────────────░────────■────┼───░───┼────■──┤ X ├\n",
       "           ░       ░ ┌───┐                  ┌───┐ ░        │    │   ░   │    │   ░       ░ └───┘ ░   │    │   ░   │    │   ░       ░ ┌───┐                ┌───┐ ░        │    │   ░   │    │  └───┘\n",
       "q_2: ──────░───────░─┤ X ├────────■─────────┤ X ├─░────────┼────┼───░───┼────┼───░───────░───────░───┼────┼───░───┼────┼───░───────░─┤ X ├───────■────────┤ X ├─░────────┼────┼───░───┼────┼───────\n",
       "     ┌───┐ ░       ░ └─┬─┘┌───────┴────────┐└─┬─┘ ░        │    │   ░   │    │   ░       ░       ░   │    │   ░   │    │   ░       ░ └─┬─┘┌──────┴───────┐└─┬─┘ ░        │    │   ░   │    │       \n",
       "q_3: ┤ X ├─░───────░───┼──┤ U(1.231,π,π,0) ├──┼───░────────┼────┼───░───■────■───░───────░───────░───■────■───░───┼────┼───░───────░───┼──┤ U(π/2,π,π,0) ├──┼───░────────┼────┼───░───■────■───────\n",
       "     └───┘ ░ ┌───┐ ░   │  └────────────────┘  │   ░ ┌───┐  │  ┌─┴─┐ ░ ┌─┴─┐  │   ░       ░       ░ ┌─┴─┐  │   ░   │  ┌─┴─┐ ░ ┌───┐ ░   │  └──────────────┘  │   ░ ┌───┐  │  ┌─┴─┐ ░ ┌─┴─┐  │       \n",
       "q_4: ──────░─┤ X ├─░───■──────────────────────■───░─┤ X ├──┼──┤ X ├─░─┤ X ├──┼───░───────░───────░─┤ X ├──┼───░───┼──┤ X ├─░─┤ X ├─░───■────────────────────■───░─┤ X ├──┼──┤ X ├─░─┤ X ├──┼───────\n",
       "           ░ ├───┤ ░   │                      │   ░ ├───┤┌─┴─┐└───┘ ░ └───┘┌─┴─┐ ░       ░       ░ └───┘┌─┴─┐ ░ ┌─┴─┐└───┘ ░ ├───┤ ░   │                    │   ░ ├───┤┌─┴─┐└───┘ ░ └───┘┌─┴─┐     \n",
       "q_5: ──────░─┤ X ├─░───■──────────────────────■───░─┤ X ├┤ X ├──────░──────┤ X ├─░───────░───────░──────┤ X ├─░─┤ X ├──────░─┤ X ├─░───■────────────────────■───░─┤ X ├┤ X ├──────░──────┤ X ├─────\n",
       "           ░ └───┘ ░                              ░ └───┘└───┘      ░      └───┘ ░       ░       ░      └───┘ ░ └───┘      ░ └───┘ ░                            ░ └───┘└───┘      ░      └───┘     </pre>"
      ],
      "text/plain": [
       "     ┌───┐ ░       ░                              ░                 ░            ░ ┌───┐ ░       ░            ░            ░       ░                            ░                 ░                \n",
       "q_0: ┤ X ├─░───────░──────────────────────────────░─────────────■───░───■────────░─┤ X ├─░───────░───■────────░────────■───░───────░────────────────────────────░─────────────■───░───■────────────\n",
       "     └───┘ ░       ░                              ░             │   ░   │        ░ └───┘ ░ ┌───┐ ░   │        ░        │   ░       ░                            ░             │   ░   │       ┌───┐\n",
       "q_1: ──────░───────░──────────────────────────────░────────■────┼───░───┼────■───░───────░─┤ X ├─░───┼────■───░───■────┼───░───────░────────────────────────────░────────■────┼───░───┼────■──┤ X ├\n",
       "           ░       ░ ┌───┐                  ┌───┐ ░        │    │   ░   │    │   ░       ░ └───┘ ░   │    │   ░   │    │   ░       ░ ┌───┐                ┌───┐ ░        │    │   ░   │    │  └───┘\n",
       "q_2: ──────░───────░─┤ X ├────────■─────────┤ X ├─░────────┼────┼───░───┼────┼───░───────░───────░───┼────┼───░───┼────┼───░───────░─┤ X ├───────■────────┤ X ├─░────────┼────┼───░───┼────┼───────\n",
       "     ┌───┐ ░       ░ └─┬─┘┌───────┴────────┐└─┬─┘ ░        │    │   ░   │    │   ░       ░       ░   │    │   ░   │    │   ░       ░ └─┬─┘┌──────┴───────┐└─┬─┘ ░        │    │   ░   │    │       \n",
       "q_3: ┤ X ├─░───────░───┼──┤ U(1.231,π,π,0) ├──┼───░────────┼────┼───░───■────■───░───────░───────░───■────■───░───┼────┼───░───────░───┼──┤ U(π/2,π,π,0) ├──┼───░────────┼────┼───░───■────■───────\n",
       "     └───┘ ░ ┌───┐ ░   │  └────────────────┘  │   ░ ┌───┐  │  ┌─┴─┐ ░ ┌─┴─┐  │   ░       ░       ░ ┌─┴─┐  │   ░   │  ┌─┴─┐ ░ ┌───┐ ░   │  └──────────────┘  │   ░ ┌───┐  │  ┌─┴─┐ ░ ┌─┴─┐  │       \n",
       "q_4: ──────░─┤ X ├─░───■──────────────────────■───░─┤ X ├──┼──┤ X ├─░─┤ X ├──┼───░───────░───────░─┤ X ├──┼───░───┼──┤ X ├─░─┤ X ├─░───■────────────────────■───░─┤ X ├──┼──┤ X ├─░─┤ X ├──┼───────\n",
       "           ░ ├───┤ ░   │                      │   ░ ├───┤┌─┴─┐└───┘ ░ └───┘┌─┴─┐ ░       ░       ░ └───┘┌─┴─┐ ░ ┌─┴─┐└───┘ ░ ├───┤ ░   │                    │   ░ ├───┤┌─┴─┐└───┘ ░ └───┘┌─┴─┐     \n",
       "q_5: ──────░─┤ X ├─░───■──────────────────────■───░─┤ X ├┤ X ├──────░──────┤ X ├─░───────░───────░──────┤ X ├─░─┤ X ├──────░─┤ X ├─░───■────────────────────■───░─┤ X ├┤ X ├──────░──────┤ X ├─────\n",
       "           ░ └───┘ ░                              ░ └───┘└───┘      ░      └───┘ ░       ░       ░      └───┘ ░ └───┘      ░ └───┘ ░                            ░ └───┘└───┘      ░      └───┘     "
      ]
     },
     "execution_count": 17,
     "metadata": {},
     "output_type": "execute_result"
    }
   ],
   "source": [
    "qc = QuantumCircuit(6)\n",
    "\n",
    "#0-1 loading register\n",
    "#2-3 control register\n",
    "#4-5 storage, memory \n",
    "\n",
    "qc.x(3)\n",
    "qc.x(0)\n",
    "\n",
    "qc.barrier()\n",
    "\n",
    "qc.x(4)\n",
    "qc.x(5)\n",
    "qc.barrier()\n",
    "\n",
    "qc.ccx(4,5,2)\n",
    "qc.cu(1.230959417340775,pi,pi,0,2,3)\n",
    "qc.ccx(4,5,2)\n",
    "qc.barrier()\n",
    "qc.x(4)\n",
    "qc.x(5)\n",
    "qc.cx(1,5)\n",
    "qc.cx(0,4)\n",
    "#Uncompute\n",
    "qc.barrier()\n",
    "qc.ccx(0,3,4)\n",
    "qc.ccx(1,3,5)\n",
    "\n",
    "qc.barrier()\n",
    "qc.x(0)\n",
    "\n",
    "qc.barrier()\n",
    "#qc.x(0)\n",
    "qc.x(1)\n",
    "\n",
    "qc.barrier()\n",
    "\n",
    "qc.ccx(0,3,4)\n",
    "qc.ccx(1,3,5)\n",
    "qc.barrier()\n",
    "qc.cx(1,5)\n",
    "qc.cx(0,4)\n",
    "qc.barrier()\n",
    "\n",
    "qc.x(4)\n",
    "qc.x(5)\n",
    "\n",
    "qc.barrier()\n",
    "qc.ccx(4,5,2)\n",
    "\n",
    "qc.cu(1.5707963267948966,pi,pi,0,2,3)\n",
    "\n",
    "qc.ccx(4,5,2)\n",
    "qc.barrier()\n",
    "\n",
    "qc.x(4)\n",
    "qc.x(5)\n",
    "\n",
    "qc.cx(1,5)\n",
    "qc.cx(0,4)\n",
    "\n",
    "#Uncompute\n",
    "qc.barrier()\n",
    "qc.ccx(0,3,4)\n",
    "qc.ccx(1,3,5)\n",
    "\n",
    "qc.x(1)\n",
    "\n",
    "qc.draw(fold=230)"
   ]
  },
  {
   "cell_type": "code",
   "execution_count": 18,
   "metadata": {},
   "outputs": [
    {
     "name": "stdout",
     "output_type": "stream",
     "text": [
      "\n",
      "Total count are: {np.str_('001000'): np.float64(0.333333333333331), np.str_('010000'): np.float64(0.333333333333332), np.str_('100000'): np.float64(0.333333333333331)}\n"
     ]
    },
    {
     "data": {
      "image/png": "[encoded data removed]",
      "text/plain": [
       "<Figure size 700x500 with 1 Axes>"
      ]
     },
     "execution_count": 18,
     "metadata": {},
     "output_type": "execute_result"
    }
   ],
   "source": [
    "simulator = Aer.get_backend('statevector_simulator')\n",
    "result=simulator.run(qc.decompose()).result()\n",
    "counts = result.get_counts()\n",
    "print(\"\\nTotal count are:\",counts)\n",
    "plot_distribution(counts)"
   ]
  },
  {
   "cell_type": "markdown",
   "metadata": {},
   "source": [
    " The resulting state is\n",
    " $ | \\psi  \\rangle_8 =  \\frac{1}{\\sqrt{3}} | 0, 0; 1, 0; 0, 0  \\rangle + \\frac{1}{\\sqrt{3}} | 0, 1; 0, 0; 0, 0  \\rangle + \\frac{1}{\\sqrt{3}} | 1, 0; 0, 0; 0, 0  \\rangle$"
   ]
  },
  {
   "cell_type": "markdown",
   "metadata": {},
   "source": [
    "n the load register pattern   $|11 \\rangle$ is generated. The first qubit  of the pattern   $|11 \\rangle$, qubit $0$, is entangled\n",
    "with the qubit $3$ of control register $c_2=1$ using the controlled NOT gate cX. \n",
    "We copy $|11 \\rangle$ into the memory register of the processing branch  by the  ccX gate (CCNOT gate)  controlled by the load register and the control qubit $3$ ($c_2=1$ indicates the processing branch).  We convert the processing branch into a memory branch by setting  the qubit $3$ of the control register $c_2$ to zero by the entangled qubit $0$ of the pattern $|11 \\rangle$ (using controlled NOT gate cX).\n",
    "We reset the load register to the ground state  $|00\\rangle$. The entangled qubit in the load register is set to zero by the  ccX gate (CCNOT gate) with the  control qubits represented by the memory register of the stored  pattern $|11 \\rangle$.\n",
    " We measure the memory register: qubit $4$ and $5$ using the \\textit{qasm simulator} with  $shots=10000$. "
   ]
  },
  {
   "cell_type": "code",
   "execution_count": 19,
   "metadata": {},
   "outputs": [
    {
     "data": {
      "text/html": [
       "<pre style=\"word-wrap: normal;white-space: pre;background: #fff0;line-height: 1.1;font-family: &quot;Courier New&quot;,Courier,monospace\">     ┌───┐ ░       ░                              ░                 ░            ░ ┌───┐ ░       ░            ░            ░       ░                            ░                 ░                 ░ ┌───┐                         ┌───┐ ░       \n",
       "q_0: ┤ X ├─░───────░──────────────────────────────░─────────────■───░───■────────░─┤ X ├─░───────░───■────────░────────■───░───────░────────────────────────────░─────────────■───░───■─────────────░─┤ X ├───────■─────────■───────┤ X ├─░───────\n",
       "     └───┘ ░       ░                              ░             │   ░   │        ░ └───┘ ░ ┌───┐ ░   │        ░        │   ░       ░                            ░             │   ░   │       ┌───┐ ░ └─┬─┘┌───┐  │         │  ┌───┐└─┬─┘ ░       \n",
       "q_1: ──────░───────░──────────────────────────────░────────■────┼───░───┼────■───░───────░─┤ X ├─░───┼────■───░───■────┼───░───────░────────────────────────────░────────■────┼───░───┼────■──┤ X ├─░───┼──┤ X ├──┼────■────┼──┤ X ├──┼───░───────\n",
       "           ░       ░ ┌───┐                  ┌───┐ ░        │    │   ░   │    │   ░       ░ └───┘ ░   │    │   ░   │    │   ░       ░ ┌───┐                ┌───┐ ░        │    │   ░   │    │  └───┘ ░   │  └───┘  │    │    │  └───┘  │   ░       \n",
       "q_2: ──────░───────░─┤ X ├────────■─────────┤ X ├─░────────┼────┼───░───┼────┼───░───────░───────░───┼────┼───░───┼────┼───░───────░─┤ X ├───────■────────┤ X ├─░────────┼────┼───░───┼────┼────────░───┼─────────┼────┼────┼─────────┼───░───────\n",
       "     ┌───┐ ░       ░ └─┬─┘┌───────┴────────┐└─┬─┘ ░        │    │   ░   │    │   ░       ░       ░   │    │   ░   │    │   ░       ░ └─┬─┘┌──────┴───────┐└─┬─┘ ░        │    │   ░   │    │        ░   │         │    │  ┌─┴─┐       │   ░       \n",
       "q_3: ┤ X ├─░───────░───┼──┤ U(1.231,π,π,0) ├──┼───░────────┼────┼───░───■────■───░───────░───────░───■────■───░───┼────┼───░───────░───┼──┤ U(π/2,π,π,0) ├──┼───░────────┼────┼───░───■────■────────░───■─────────■────■──┤ X ├───────┼───░───────\n",
       "     └───┘ ░ ┌───┐ ░   │  └────────────────┘  │   ░ ┌───┐  │  ┌─┴─┐ ░ ┌─┴─┐  │   ░       ░       ░ ┌─┴─┐  │   ░   │  ┌─┴─┐ ░ ┌───┐ ░   │  └──────────────┘  │   ░ ┌───┐  │  ┌─┴─┐ ░ ┌─┴─┐  │        ░           ┌─┴─┐  │  └───┘       │   ░ ┌─┐   \n",
       "q_4: ──────░─┤ X ├─░───■──────────────────────■───░─┤ X ├──┼──┤ X ├─░─┤ X ├──┼───░───────░───────░─┤ X ├──┼───░───┼──┤ X ├─░─┤ X ├─░───■────────────────────■───░─┤ X ├──┼──┤ X ├─░─┤ X ├──┼────────░───────────┤ X ├──┼──────────────■───░─┤M├───\n",
       "           ░ ├───┤ ░   │                      │   ░ ├───┤┌─┴─┐└───┘ ░ └───┘┌─┴─┐ ░       ░       ░ └───┘┌─┴─┐ ░ ┌─┴─┐└───┘ ░ ├───┤ ░   │                    │   ░ ├───┤┌─┴─┐└───┘ ░ └───┘┌─┴─┐      ░           └───┘┌─┴─┐            │   ░ └╥┘┌─┐\n",
       "q_5: ──────░─┤ X ├─░───■──────────────────────■───░─┤ X ├┤ X ├──────░──────┤ X ├─░───────░───────░──────┤ X ├─░─┤ X ├──────░─┤ X ├─░───■────────────────────■───░─┤ X ├┤ X ├──────░──────┤ X ├──────░────────────────┤ X ├────────────■───░──╫─┤M├\n",
       "           ░ └───┘ ░                              ░ └───┘└───┘      ░      └───┘ ░       ░       ░      └───┘ ░ └───┘      ░ └───┘ ░                            ░ └───┘└───┘      ░      └───┘      ░                └───┘                ░  ║ └╥┘\n",
       "c: 2/════════════════════════════════════════════════════════════════════════════════════════════════════════════════════════════════════════════════════════════════════════════════════════════════════════════════════════════════════════╩══╩═\n",
       "                                                                                                                                                                                                                                             0  1 </pre>"
      ],
      "text/plain": [
       "     ┌───┐ ░       ░                              ░                 ░            ░ ┌───┐ ░       ░            ░            ░       ░                            ░                 ░                 ░ ┌───┐                         ┌───┐ ░       \n",
       "q_0: ┤ X ├─░───────░──────────────────────────────░─────────────■───░───■────────░─┤ X ├─░───────░───■────────░────────■───░───────░────────────────────────────░─────────────■───░───■─────────────░─┤ X ├───────■─────────■───────┤ X ├─░───────\n",
       "     └───┘ ░       ░                              ░             │   ░   │        ░ └───┘ ░ ┌───┐ ░   │        ░        │   ░       ░                            ░             │   ░   │       ┌───┐ ░ └─┬─┘┌───┐  │         │  ┌───┐└─┬─┘ ░       \n",
       "q_1: ──────░───────░──────────────────────────────░────────■────┼───░───┼────■───░───────░─┤ X ├─░───┼────■───░───■────┼───░───────░────────────────────────────░────────■────┼───░───┼────■──┤ X ├─░───┼──┤ X ├──┼────■────┼──┤ X ├──┼───░───────\n",
       "           ░       ░ ┌───┐                  ┌───┐ ░        │    │   ░   │    │   ░       ░ └───┘ ░   │    │   ░   │    │   ░       ░ ┌───┐                ┌───┐ ░        │    │   ░   │    │  └───┘ ░   │  └───┘  │    │    │  └───┘  │   ░       \n",
       "q_2: ──────░───────░─┤ X ├────────■─────────┤ X ├─░────────┼────┼───░───┼────┼───░───────░───────░───┼────┼───░───┼────┼───░───────░─┤ X ├───────■────────┤ X ├─░────────┼────┼───░───┼────┼────────░───┼─────────┼────┼────┼─────────┼───░───────\n",
       "     ┌───┐ ░       ░ └─┬─┘┌───────┴────────┐└─┬─┘ ░        │    │   ░   │    │   ░       ░       ░   │    │   ░   │    │   ░       ░ └─┬─┘┌──────┴───────┐└─┬─┘ ░        │    │   ░   │    │        ░   │         │    │  ┌─┴─┐       │   ░       \n",
       "q_3: ┤ X ├─░───────░───┼──┤ U(1.231,π,π,0) ├──┼───░────────┼────┼───░───■────■───░───────░───────░───■────■───░───┼────┼───░───────░───┼──┤ U(π/2,π,π,0) ├──┼───░────────┼────┼───░───■────■────────░───■─────────■────■──┤ X ├───────┼───░───────\n",
       "     └───┘ ░ ┌───┐ ░   │  └────────────────┘  │   ░ ┌───┐  │  ┌─┴─┐ ░ ┌─┴─┐  │   ░       ░       ░ ┌─┴─┐  │   ░   │  ┌─┴─┐ ░ ┌───┐ ░   │  └──────────────┘  │   ░ ┌───┐  │  ┌─┴─┐ ░ ┌─┴─┐  │        ░           ┌─┴─┐  │  └───┘       │   ░ ┌─┐   \n",
       "q_4: ──────░─┤ X ├─░───■──────────────────────■───░─┤ X ├──┼──┤ X ├─░─┤ X ├──┼───░───────░───────░─┤ X ├──┼───░───┼──┤ X ├─░─┤ X ├─░───■────────────────────■───░─┤ X ├──┼──┤ X ├─░─┤ X ├──┼────────░───────────┤ X ├──┼──────────────■───░─┤M├───\n",
       "           ░ ├───┤ ░   │                      │   ░ ├───┤┌─┴─┐└───┘ ░ └───┘┌─┴─┐ ░       ░       ░ └───┘┌─┴─┐ ░ ┌─┴─┐└───┘ ░ ├───┤ ░   │                    │   ░ ├───┤┌─┴─┐└───┘ ░ └───┘┌─┴─┐      ░           └───┘┌─┴─┐            │   ░ └╥┘┌─┐\n",
       "q_5: ──────░─┤ X ├─░───■──────────────────────■───░─┤ X ├┤ X ├──────░──────┤ X ├─░───────░───────░──────┤ X ├─░─┤ X ├──────░─┤ X ├─░───■────────────────────■───░─┤ X ├┤ X ├──────░──────┤ X ├──────░────────────────┤ X ├────────────■───░──╫─┤M├\n",
       "           ░ └───┘ ░                              ░ └───┘└───┘      ░      └───┘ ░       ░       ░      └───┘ ░ └───┘      ░ └───┘ ░                            ░ └───┘└───┘      ░      └───┘      ░                └───┘                ░  ║ └╥┘\n",
       "c: 2/════════════════════════════════════════════════════════════════════════════════════════════════════════════════════════════════════════════════════════════════════════════════════════════════════════════════════════════════════════╩══╩═\n",
       "                                                                                                                                                                                                                                             0  1 "
      ]
     },
     "execution_count": 19,
     "metadata": {},
     "output_type": "execute_result"
    }
   ],
   "source": [
    "qc = QuantumCircuit(6,2)\n",
    "\n",
    "#0-1 loading register\n",
    "#2-3 control register\n",
    "#4-5 storage, memory \n",
    "\n",
    "qc.x(3)\n",
    "qc.x(0)\n",
    "\n",
    "qc.barrier()\n",
    "\n",
    "qc.x(4)\n",
    "qc.x(5)\n",
    "qc.barrier()\n",
    "\n",
    "qc.ccx(4,5,2)\n",
    "qc.cu(1.230959417340775,pi,pi,0,2,3)\n",
    "qc.ccx(4,5,2)\n",
    "qc.barrier()\n",
    "qc.x(4)\n",
    "qc.x(5)\n",
    "qc.cx(1,5)\n",
    "qc.cx(0,4)\n",
    "#Uncompute\n",
    "qc.barrier()\n",
    "qc.ccx(0,3,4)\n",
    "qc.ccx(1,3,5)\n",
    "\n",
    "qc.barrier()\n",
    "qc.x(0)\n",
    "\n",
    "qc.barrier()\n",
    "#qc.x(0)\n",
    "qc.x(1)\n",
    "\n",
    "qc.barrier()\n",
    "\n",
    "qc.ccx(0,3,4)\n",
    "qc.ccx(1,3,5)\n",
    "qc.barrier()\n",
    "qc.cx(1,5)\n",
    "qc.cx(0,4)\n",
    "qc.barrier()\n",
    "\n",
    "qc.x(4)\n",
    "qc.x(5)\n",
    "\n",
    "qc.barrier()\n",
    "qc.ccx(4,5,2)\n",
    "\n",
    "qc.cu(1.5707963267948966,pi,pi,0,2,3)\n",
    "\n",
    "qc.ccx(4,5,2)\n",
    "qc.barrier()\n",
    "\n",
    "qc.x(4)\n",
    "qc.x(5)\n",
    "\n",
    "qc.cx(1,5)\n",
    "qc.cx(0,4)\n",
    "\n",
    "#Uncompute\n",
    "qc.barrier()\n",
    "qc.ccx(0,3,4)\n",
    "qc.ccx(1,3,5)\n",
    "\n",
    "qc.x(1)\n",
    "\n",
    "\n",
    "qc.barrier()\n",
    "\n",
    "qc.cx(3,0)\n",
    "qc.x(1)\n",
    "\n",
    "\n",
    "qc.ccx(0,3,4)\n",
    "qc.ccx(1,3,5)\n",
    "\n",
    "qc.cx(0,3)\n",
    "\n",
    "\n",
    "#qc.x(0)\n",
    "qc.ccx(4,5,0)\n",
    "qc.x(1)\n",
    "\n",
    "qc.barrier()\n",
    "\n",
    "qc.measure(4,0)\n",
    "qc.measure(5,1)\n",
    "\n",
    "qc.draw(fold=260)"
   ]
  },
  {
   "cell_type": "code",
   "execution_count": 20,
   "metadata": {},
   "outputs": [
    {
     "name": "stdout",
     "output_type": "stream",
     "text": [
      "\n",
      "Total count are: {'01': 3334, '10': 3313, '11': 3353}\n"
     ]
    },
    {
     "data": {
      "image/png": "[encoded data removed]",
      "text/plain": [
       "<Figure size 640x480 with 1 Axes>"
      ]
     },
     "execution_count": 20,
     "metadata": {},
     "output_type": "execute_result"
    }
   ],
   "source": [
    "simulator = Aer.get_backend('qasm_simulator')\n",
    "result=simulator.run(qc,shots=10000).result()\n",
    "counts = result.get_counts()\n",
    "print(\"\\nTotal count are:\",counts)\n",
    "plot_histogram(counts)"
   ]
  },
  {
   "cell_type": "markdown",
   "metadata": {},
   "source": [
    "The results of the measurement represent the desired distribution\n",
    "\\begin{equation}\n",
    "\\psi  \\rangle =\\frac{1}{\\sqrt{3}} \\cdot \\left( |  0, 1  \\rangle +  | 1, 0  \\rangle +  |  1, 1  \\rangle \\right).\n",
    "\\end{equation}"
   ]
  },
  {
   "cell_type": "markdown",
   "metadata": {},
   "source": [
    "## Entanglement of Binary Patterns\n",
    "\n",
    "In this example we store four binary patterns,\n",
    "\\begin{equation}\n",
    "|101 \\rangle_4,~~  |011 \\rangle_3,~~ |111 \\rangle_2,~~ |010 \\rangle_1\n",
    "\\end{equation}\n",
    "by entanglement  with the four index qubits $|  index_j    \\rangle$ in superposition \n",
    "\\begin{equation}\n",
    " | index_4    \\rangle= |   11 \\rangle~~~ | index_3 \\rangle= |   10 \\rangle~~~ \n",
    "   | index_2    \\rangle= |   01 \\rangle~~~| index_1    \\rangle= |   00 \\rangle\n",
    "\\end{equation}\n",
    " using controlled NOT gates   (ccX gates)  "
   ]
  },
  {
   "cell_type": "code",
   "execution_count": 21,
   "metadata": {},
   "outputs": [
    {
     "data": {
      "text/html": [
       "<pre style=\"word-wrap: normal;white-space: pre;background: #fff0;line-height: 1.1;font-family: &quot;Courier New&quot;,Courier,monospace\">          ┌───┐      ░      ┌───┐           ░      ┌───┐                ░                \n",
       "q_0: ─────┤ X ├──────░──────┤ X ├───────────░──────┤ X ├────────────────░────────────────\n",
       "          └─┬─┘      ░      └─┬─┘┌───┐      ░      └─┬─┘┌───┐           ░      ┌───┐     \n",
       "q_1: ───────┼────────░────────┼──┤ X ├──────░────────┼──┤ X ├───────────░──────┤ X ├─────\n",
       "            │  ┌───┐ ░        │  └─┬─┘      ░        │  └─┬─┘┌───┐      ░      └─┬─┘     \n",
       "q_2: ───────┼──┤ X ├─░────────┼────┼────────░────────┼────┼──┤ X ├──────░────────┼───────\n",
       "     ┌───┐  │  └─┬─┘ ░ ┌───┐  │    │  ┌───┐ ░        │    │  └─┬─┘      ░ ┌───┐  │  ┌───┐\n",
       "q_3: ┤ H ├──■────■───░─┤ X ├──■────■──┤ X ├─░────────■────■────■────────░─┤ X ├──■──┤ X ├\n",
       "     ├───┤  │    │   ░ └───┘  │    │  └───┘ ░ ┌───┐  │    │    │  ┌───┐ ░ ├───┤  │  ├───┤\n",
       "q_4: ┤ H ├──■────■───░────────■────■────────░─┤ X ├──■────■────■──┤ X ├─░─┤ X ├──■──┤ X ├\n",
       "     └───┘           ░                      ░ └───┘               └───┘ ░ └───┘     └───┘</pre>"
      ],
      "text/plain": [
       "          ┌───┐      ░      ┌───┐           ░      ┌───┐                ░                \n",
       "q_0: ─────┤ X ├──────░──────┤ X ├───────────░──────┤ X ├────────────────░────────────────\n",
       "          └─┬─┘      ░      └─┬─┘┌───┐      ░      └─┬─┘┌───┐           ░      ┌───┐     \n",
       "q_1: ───────┼────────░────────┼──┤ X ├──────░────────┼──┤ X ├───────────░──────┤ X ├─────\n",
       "            │  ┌───┐ ░        │  └─┬─┘      ░        │  └─┬─┘┌───┐      ░      └─┬─┘     \n",
       "q_2: ───────┼──┤ X ├─░────────┼────┼────────░────────┼────┼──┤ X ├──────░────────┼───────\n",
       "     ┌───┐  │  └─┬─┘ ░ ┌───┐  │    │  ┌───┐ ░        │    │  └─┬─┘      ░ ┌───┐  │  ┌───┐\n",
       "q_3: ┤ H ├──■────■───░─┤ X ├──■────■──┤ X ├─░────────■────■────■────────░─┤ X ├──■──┤ X ├\n",
       "     ├───┤  │    │   ░ └───┘  │    │  └───┘ ░ ┌───┐  │    │    │  ┌───┐ ░ ├───┤  │  ├───┤\n",
       "q_4: ┤ H ├──■────■───░────────■────■────────░─┤ X ├──■────■────■──┤ X ├─░─┤ X ├──■──┤ X ├\n",
       "     └───┘           ░                      ░ └───┘               └───┘ ░ └───┘     └───┘"
      ]
     },
     "execution_count": 21,
     "metadata": {},
     "output_type": "execute_result"
    }
   ],
   "source": [
    "qc = QuantumCircuit(5)\n",
    "\n",
    "#0-2 data\n",
    "#Index\n",
    "#3-4\n",
    "qc.h(3)\n",
    "qc.h(4)\n",
    "\n",
    "#First patern\n",
    "qc.ccx(3,4,0)\n",
    "qc.ccx(3,4,2)\n",
    "qc.barrier()\n",
    "#Second patern\n",
    "qc.x(3)\n",
    "qc.ccx(3,4,0)\n",
    "qc.ccx(3,4,1)\n",
    "qc.x(3)\n",
    "\n",
    "qc.barrier()\n",
    "#Third patern\n",
    "qc.x(4)\n",
    "qc.ccx(3,4,0)\n",
    "qc.ccx(3,4,1)\n",
    "qc.ccx(3,4,2)\n",
    "qc.x(4)\n",
    "\n",
    "qc.barrier()\n",
    "#Fourth patern\n",
    "qc.x(3)\n",
    "qc.x(4)\n",
    "qc.ccx(3,4,1)\n",
    "qc.x(4)\n",
    "qc.x(3)\n",
    "\n",
    "qc.draw(fold=160)"
   ]
  },
  {
   "cell_type": "code",
   "execution_count": 22,
   "metadata": {},
   "outputs": [
    {
     "name": "stdout",
     "output_type": "stream",
     "text": [
      "\n",
      "Total count are: {np.str_('00010'): np.float64(0.249999999999999), np.str_('01111'): np.float64(0.249999999999999), np.str_('10011'): np.float64(0.249999999999999), np.str_('11101'): np.float64(0.249999999999999)}\n"
     ]
    },
    {
     "data": {
      "image/png": "[encoded data removed]",
      "text/plain": [
       "<Figure size 700x500 with 1 Axes>"
      ]
     },
     "execution_count": 22,
     "metadata": {},
     "output_type": "execute_result"
    }
   ],
   "source": [
    "simulator = Aer.get_backend('statevector_simulator')\n",
    "result=simulator.run(qc.decompose()).result()\n",
    "counts = result.get_counts()\n",
    "print(\"\\nTotal count are:\",counts)\n",
    "plot_distribution(counts)"
   ]
  },
  {
   "cell_type": "markdown",
   "metadata": {},
   "source": [
    " The histogram representing the superposition, qubits $0,1,2$ represent the patterns and the qubits $4,5$ the index qubits.\n",
    "\n",
    "The superposition of patterns with their indexes is represented as\n",
    "\\begin{equation}\n",
    "| \\psi  \\rangle= \\frac{1}{2} \\cdot \\left(  | 00010\\rangle_1  + |01111 \\rangle_2  + |10011 \\rangle_3 +  |11101 \\rangle_4  \\right).\n",
    "\\end{equation}"
   ]
  },
  {
   "cell_type": "markdown",
   "metadata": {},
   "source": [
    "We can entangle several copies of superposition binary pattern vectors that can be processed and measured independently"
   ]
  },
  {
   "cell_type": "code",
   "execution_count": 23,
   "metadata": {},
   "outputs": [
    {
     "data": {
      "text/html": [
       "<pre style=\"word-wrap: normal;white-space: pre;background: #fff0;line-height: 1.1;font-family: &quot;Courier New&quot;,Courier,monospace\">            ░ ┌───┐      ░      ┌───┐           ░      ┌───┐                ░                 ░                \n",
       " q_0: ──────░─┤ X ├──────░──────┤ X ├───────────░──────┤ X ├────────────────░─────────────────░────────────────\n",
       "            ░ └─┬─┘      ░      └─┬─┘┌───┐      ░      └─┬─┘┌───┐           ░      ┌───┐      ░                \n",
       " q_1: ──────░───┼────────░────────┼──┤ X ├──────░────────┼──┤ X ├───────────░──────┤ X ├──────░────────────────\n",
       "            ░   │  ┌───┐ ░        │  └─┬─┘      ░        │  └─┬─┘┌───┐      ░      └─┬─┘      ░                \n",
       " q_2: ──────░───┼──┤ X ├─░────────┼────┼────────░────────┼────┼──┤ X ├──────░────────┼────────░────────────────\n",
       "      ┌───┐ ░   │  └─┬─┘ ░ ┌───┐  │    │  ┌───┐ ░        │    │  └─┬─┘      ░ ┌───┐  │  ┌───┐ ░                \n",
       " q_3: ┤ H ├─░───■────■───░─┤ X ├──■────■──┤ X ├─░────────■────■────■────────░─┤ X ├──■──┤ X ├─░────────────────\n",
       "      ├───┤ ░   │    │   ░ └───┘  │    │  └───┘ ░ ┌───┐  │    │    │  ┌───┐ ░ ├───┤  │  ├───┤ ░                \n",
       " q_4: ┤ H ├─░───■────■───░────────■────■────────░─┤ X ├──■────■────■──┤ X ├─░─┤ X ├──■──┤ X ├─░────────────────\n",
       "      └───┘ ░            ░                      ░ └───┘               └───┘ ░ └───┘     └───┘ ░                \n",
       " q_5: ──────░────────────░──────────────────────░───────────────────────────░─────────────────░────────────────\n",
       "            ░ ┌───┐      ░      ┌───┐           ░      ┌───┐                ░                 ░ ┌─┐            \n",
       " q_6: ──────░─┤ X ├──────░──────┤ X ├───────────░──────┤ X ├────────────────░─────────────────░─┤M├────────────\n",
       "            ░ └─┬─┘      ░      └─┬─┘┌───┐      ░      └─┬─┘┌───┐           ░      ┌───┐      ░ └╥┘┌─┐         \n",
       " q_7: ──────░───┼────────░────────┼──┤ X ├──────░────────┼──┤ X ├───────────░──────┤ X ├──────░──╫─┤M├─────────\n",
       "            ░   │  ┌───┐ ░        │  └─┬─┘      ░        │  └─┬─┘┌───┐      ░      └─┬─┘      ░  ║ └╥┘┌─┐      \n",
       " q_8: ──────░───┼──┤ X ├─░────────┼────┼────────░────────┼────┼──┤ X ├──────░────────┼────────░──╫──╫─┤M├──────\n",
       "      ┌───┐ ░   │  └─┬─┘ ░ ┌───┐  │    │  ┌───┐ ░        │    │  └─┬─┘      ░ ┌───┐  │  ┌───┐ ░  ║  ║ └╥┘┌─┐   \n",
       " q_9: ┤ H ├─░───■────■───░─┤ X ├──■────■──┤ X ├─░────────■────■────■────────░─┤ X ├──■──┤ X ├─░──╫──╫──╫─┤M├───\n",
       "      ├───┤ ░   │    │   ░ └───┘  │    │  └───┘ ░ ┌───┐  │    │    │  ┌───┐ ░ ├───┤  │  ├───┤ ░  ║  ║  ║ └╥┘┌─┐\n",
       "q_10: ┤ H ├─░───■────■───░────────■────■────────░─┤ X ├──■────■────■──┤ X ├─░─┤ X ├──■──┤ X ├─░──╫──╫──╫──╫─┤M├\n",
       "      └───┘ ░            ░                      ░ └───┘               └───┘ ░ └───┘     └───┘ ░  ║  ║  ║  ║ └╥┘\n",
       "q_11: ──────░────────────░──────────────────────░───────────────────────────░─────────────────░──╫──╫──╫──╫──╫─\n",
       "            ░ ┌───┐      ░      ┌───┐           ░      ┌───┐                ░                 ░  ║  ║  ║  ║  ║ \n",
       "q_12: ──────░─┤ X ├──────░──────┤ X ├───────────░──────┤ X ├────────────────░─────────────────░──╫──╫──╫──╫──╫─\n",
       "            ░ └─┬─┘      ░      └─┬─┘┌───┐      ░      └─┬─┘┌───┐           ░      ┌───┐      ░  ║  ║  ║  ║  ║ \n",
       "q_13: ──────░───┼────────░────────┼──┤ X ├──────░────────┼──┤ X ├───────────░──────┤ X ├──────░──╫──╫──╫──╫──╫─\n",
       "            ░   │  ┌───┐ ░        │  └─┬─┘      ░        │  └─┬─┘┌───┐      ░      └─┬─┘      ░  ║  ║  ║  ║  ║ \n",
       "q_14: ──────░───┼──┤ X ├─░────────┼────┼────────░────────┼────┼──┤ X ├──────░────────┼────────░──╫──╫──╫──╫──╫─\n",
       "      ┌───┐ ░   │  └─┬─┘ ░ ┌───┐  │    │  ┌───┐ ░        │    │  └─┬─┘      ░ ┌───┐  │  ┌───┐ ░  ║  ║  ║  ║  ║ \n",
       "q_15: ┤ H ├─░───■────■───░─┤ X ├──■────■──┤ X ├─░────────■────■────■────────░─┤ X ├──■──┤ X ├─░──╫──╫──╫──╫──╫─\n",
       "      ├───┤ ░   │    │   ░ └───┘  │    │  └───┘ ░ ┌───┐  │    │    │  ┌───┐ ░ ├───┤  │  ├───┤ ░  ║  ║  ║  ║  ║ \n",
       "q_16: ┤ H ├─░───■────■───░────────■────■────────░─┤ X ├──■────■────■──┤ X ├─░─┤ X ├──■──┤ X ├─░──╫──╫──╫──╫──╫─\n",
       "      └───┘ ░            ░                      ░ └───┘               └───┘ ░ └───┘     └───┘ ░  ║  ║  ║  ║  ║ \n",
       "q_17: ──────░────────────░──────────────────────░───────────────────────────░─────────────────░──╫──╫──╫──╫──╫─\n",
       "            ░            ░                      ░                           ░                 ░  ║  ║  ║  ║  ║ \n",
       " c: 5/═══════════════════════════════════════════════════════════════════════════════════════════╩══╩══╩══╩══╩═\n",
       "                                                                                                 0  1  2  3  4 </pre>"
      ],
      "text/plain": [
       "            ░ ┌───┐      ░      ┌───┐           ░      ┌───┐                ░                 ░                \n",
       " q_0: ──────░─┤ X ├──────░──────┤ X ├───────────░──────┤ X ├────────────────░─────────────────░────────────────\n",
       "            ░ └─┬─┘      ░      └─┬─┘┌───┐      ░      └─┬─┘┌───┐           ░      ┌───┐      ░                \n",
       " q_1: ──────░───┼────────░────────┼──┤ X ├──────░────────┼──┤ X ├───────────░──────┤ X ├──────░────────────────\n",
       "            ░   │  ┌───┐ ░        │  └─┬─┘      ░        │  └─┬─┘┌───┐      ░      └─┬─┘      ░                \n",
       " q_2: ──────░───┼──┤ X ├─░────────┼────┼────────░────────┼────┼──┤ X ├──────░────────┼────────░────────────────\n",
       "      ┌───┐ ░   │  └─┬─┘ ░ ┌───┐  │    │  ┌───┐ ░        │    │  └─┬─┘      ░ ┌───┐  │  ┌───┐ ░                \n",
       " q_3: ┤ H ├─░───■────■───░─┤ X ├──■────■──┤ X ├─░────────■────■────■────────░─┤ X ├──■──┤ X ├─░────────────────\n",
       "      ├───┤ ░   │    │   ░ └───┘  │    │  └───┘ ░ ┌───┐  │    │    │  ┌───┐ ░ ├───┤  │  ├───┤ ░                \n",
       " q_4: ┤ H ├─░───■────■───░────────■────■────────░─┤ X ├──■────■────■──┤ X ├─░─┤ X ├──■──┤ X ├─░────────────────\n",
       "      └───┘ ░            ░                      ░ └───┘               └───┘ ░ └───┘     └───┘ ░                \n",
       " q_5: ──────░────────────░──────────────────────░───────────────────────────░─────────────────░────────────────\n",
       "            ░ ┌───┐      ░      ┌───┐           ░      ┌───┐                ░                 ░ ┌─┐            \n",
       " q_6: ──────░─┤ X ├──────░──────┤ X ├───────────░──────┤ X ├────────────────░─────────────────░─┤M├────────────\n",
       "            ░ └─┬─┘      ░      └─┬─┘┌───┐      ░      └─┬─┘┌───┐           ░      ┌───┐      ░ └╥┘┌─┐         \n",
       " q_7: ──────░───┼────────░────────┼──┤ X ├──────░────────┼──┤ X ├───────────░──────┤ X ├──────░──╫─┤M├─────────\n",
       "            ░   │  ┌───┐ ░        │  └─┬─┘      ░        │  └─┬─┘┌───┐      ░      └─┬─┘      ░  ║ └╥┘┌─┐      \n",
       " q_8: ──────░───┼──┤ X ├─░────────┼────┼────────░────────┼────┼──┤ X ├──────░────────┼────────░──╫──╫─┤M├──────\n",
       "      ┌───┐ ░   │  └─┬─┘ ░ ┌───┐  │    │  ┌───┐ ░        │    │  └─┬─┘      ░ ┌───┐  │  ┌───┐ ░  ║  ║ └╥┘┌─┐   \n",
       " q_9: ┤ H ├─░───■────■───░─┤ X ├──■────■──┤ X ├─░────────■────■────■────────░─┤ X ├──■──┤ X ├─░──╫──╫──╫─┤M├───\n",
       "      ├───┤ ░   │    │   ░ └───┘  │    │  └───┘ ░ ┌───┐  │    │    │  ┌───┐ ░ ├───┤  │  ├───┤ ░  ║  ║  ║ └╥┘┌─┐\n",
       "q_10: ┤ H ├─░───■────■───░────────■────■────────░─┤ X ├──■────■────■──┤ X ├─░─┤ X ├──■──┤ X ├─░──╫──╫──╫──╫─┤M├\n",
       "      └───┘ ░            ░                      ░ └───┘               └───┘ ░ └───┘     └───┘ ░  ║  ║  ║  ║ └╥┘\n",
       "q_11: ──────░────────────░──────────────────────░───────────────────────────░─────────────────░──╫──╫──╫──╫──╫─\n",
       "            ░ ┌───┐      ░      ┌───┐           ░      ┌───┐                ░                 ░  ║  ║  ║  ║  ║ \n",
       "q_12: ──────░─┤ X ├──────░──────┤ X ├───────────░──────┤ X ├────────────────░─────────────────░──╫──╫──╫──╫──╫─\n",
       "            ░ └─┬─┘      ░      └─┬─┘┌───┐      ░      └─┬─┘┌───┐           ░      ┌───┐      ░  ║  ║  ║  ║  ║ \n",
       "q_13: ──────░───┼────────░────────┼──┤ X ├──────░────────┼──┤ X ├───────────░──────┤ X ├──────░──╫──╫──╫──╫──╫─\n",
       "            ░   │  ┌───┐ ░        │  └─┬─┘      ░        │  └─┬─┘┌───┐      ░      └─┬─┘      ░  ║  ║  ║  ║  ║ \n",
       "q_14: ──────░───┼──┤ X ├─░────────┼────┼────────░────────┼────┼──┤ X ├──────░────────┼────────░──╫──╫──╫──╫──╫─\n",
       "      ┌───┐ ░   │  └─┬─┘ ░ ┌───┐  │    │  ┌───┐ ░        │    │  └─┬─┘      ░ ┌───┐  │  ┌───┐ ░  ║  ║  ║  ║  ║ \n",
       "q_15: ┤ H ├─░───■────■───░─┤ X ├──■────■──┤ X ├─░────────■────■────■────────░─┤ X ├──■──┤ X ├─░──╫──╫──╫──╫──╫─\n",
       "      ├───┤ ░   │    │   ░ └───┘  │    │  └───┘ ░ ┌───┐  │    │    │  ┌───┐ ░ ├───┤  │  ├───┤ ░  ║  ║  ║  ║  ║ \n",
       "q_16: ┤ H ├─░───■────■───░────────■────■────────░─┤ X ├──■────■────■──┤ X ├─░─┤ X ├──■──┤ X ├─░──╫──╫──╫──╫──╫─\n",
       "      └───┘ ░            ░                      ░ └───┘               └───┘ ░ └───┘     └───┘ ░  ║  ║  ║  ║  ║ \n",
       "q_17: ──────░────────────░──────────────────────░───────────────────────────░─────────────────░──╫──╫──╫──╫──╫─\n",
       "            ░            ░                      ░                           ░                 ░  ║  ║  ║  ║  ║ \n",
       " c: 5/═══════════════════════════════════════════════════════════════════════════════════════════╩══╩══╩══╩══╩═\n",
       "                                                                                                 0  1  2  3  4 "
      ]
     },
     "execution_count": 23,
     "metadata": {},
     "output_type": "execute_result"
    }
   ],
   "source": [
    "qc = QuantumCircuit(18,5)\n",
    "\n",
    "#1St magazine\n",
    "#0-2 data\n",
    "#Index\n",
    "#3-4\n",
    "qc.h(3)\n",
    "qc.h(4)\n",
    "#Aux 5\n",
    "\n",
    "#2th magazine\n",
    "#6-8 data\n",
    "#Index\n",
    "#9-10\n",
    "qc.h(9)\n",
    "qc.h(10)\n",
    "#Aux 11\n",
    "\n",
    "#3th magazine\n",
    "#12-14 data\n",
    "#Index\n",
    "#15-16\n",
    "qc.h(15)\n",
    "qc.h(16)\n",
    "#Aux 17\n",
    "\n",
    "\n",
    "qc.barrier()\n",
    "\n",
    "#First patern\n",
    "\n",
    "qc.ccx(3,4,0)\n",
    "qc.ccx(3,4,2)\n",
    "\n",
    "qc.ccx(9,10,6)\n",
    "qc.ccx(9,10,8)\n",
    "\n",
    "qc.ccx(15,16,12)\n",
    "qc.ccx(15,16,14)\n",
    "\n",
    "qc.barrier()\n",
    "#Second patern\n",
    "\n",
    "qc.x(3)\n",
    "qc.x(9)\n",
    "qc.x(15)\n",
    "\n",
    "qc.ccx(3,4,0)\n",
    "qc.ccx(3,4,1)\n",
    "\n",
    "qc.ccx(9,10,6)\n",
    "qc.ccx(9,10,7)\n",
    "\n",
    "qc.ccx(15,16,12)\n",
    "qc.ccx(15,16,13)\n",
    "\n",
    "qc.x(15)\n",
    "qc.x(9)\n",
    "qc.x(3)\n",
    "\n",
    "qc.barrier()\n",
    "#Third patern\n",
    "\n",
    "qc.x(4)\n",
    "qc.x(10)\n",
    "qc.x(16)\n",
    "\n",
    "qc.ccx(3,4,0)\n",
    "qc.ccx(3,4,1)\n",
    "qc.ccx(3,4,2)\n",
    "\n",
    "qc.ccx(9,10,6)\n",
    "qc.ccx(9,10,7)\n",
    "qc.ccx(9,10,8)\n",
    "\n",
    "qc.ccx(15,16,12)\n",
    "qc.ccx(15,16,13)\n",
    "qc.ccx(15,16,14)\n",
    "\n",
    "qc.x(16)\n",
    "qc.x(10)\n",
    "qc.x(4)\n",
    "\n",
    "qc.barrier()\n",
    "#Fourth patern\n",
    "\n",
    "qc.x(3)\n",
    "qc.x(4)\n",
    "qc.x(9)\n",
    "qc.x(10)\n",
    "qc.x(15)\n",
    "qc.x(16)\n",
    "\n",
    "qc.ccx(3,4,1)\n",
    "\n",
    "qc.ccx(9,10,7)\n",
    "\n",
    "qc.ccx(15,16,13)\n",
    "\n",
    "qc.x(16)\n",
    "qc.x(15)\n",
    "qc.x(10)\n",
    "qc.x(9)\n",
    "qc.x(4)\n",
    "qc.x(3)\n",
    "\n",
    "\n",
    "qc.barrier()\n",
    "\n",
    "#qc.measure(0,0)\n",
    "#qc.measure(1,1)\n",
    "#qc.measure(2,2)\n",
    "#qc.measure(3,3)\n",
    "#qc.measure(4,4)\n",
    "\n",
    "qc.measure(6,0)\n",
    "qc.measure(7,1)\n",
    "qc.measure(8,2)\n",
    "qc.measure(9,3)\n",
    "qc.measure(10,4)\n",
    "\n",
    "qc.draw(fold=160)\n",
    "\n"
   ]
  },
  {
   "cell_type": "code",
   "execution_count": 24,
   "metadata": {},
   "outputs": [
    {
     "name": "stdout",
     "output_type": "stream",
     "text": [
      "\n",
      "Total count are: {'01111': 251, '00010': 243, '10011': 252, '11101': 254}\n"
     ]
    },
    {
     "data": {
      "image/png": "[encoded data removed]",
      "text/plain": [
       "<Figure size 640x480 with 1 Axes>"
      ]
     },
     "execution_count": 24,
     "metadata": {},
     "output_type": "execute_result"
    }
   ],
   "source": [
    "simulator = Aer.get_backend('qasm_simulator')\n",
    "result=simulator.run(qc,shots=1000).result()\n",
    "counts = result.get_counts()\n",
    "print(\"\\nTotal count are:\",counts)\n",
    "plot_histogram(counts)"
   ]
  }
 ],
 "metadata": {
  "kernelspec": {
   "display_name": "dwa",
   "language": "python",
   "name": "python3"
  },
  "language_info": {
   "codemirror_mode": {
    "name": "ipython",
    "version": 3
   },
   "file_extension": ".py",
   "mimetype": "text/x-python",
   "name": "python",
   "nbconvert_exporter": "python",
   "pygments_lexer": "ipython3",
   "version": "3.13.2"
  },
  "orig_nbformat": 4
 },
 "nbformat": 4,
 "nbformat_minor": 2
}
