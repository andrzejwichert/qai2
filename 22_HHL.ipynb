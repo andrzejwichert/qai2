{
 "cells": [
  {
   "cell_type": "markdown",
   "metadata": {},
   "source": [
    "# Chapter 22: HHL  \n",
    "### Qiskit 2.x\n",
    "\n",
    "We see systems of linear equations in many real-life applications across a wide range of areas.\n",
    "For an invertible complex matrix $n \\times n$ $A$ and a complex vector  $\\textbf{b}$\n",
    "\\begin{equation}\n",
    "A \\cdot \\textbf{x} =  \\textbf{b} \n",
    "\\end{equation}\n",
    "we want to find $ \\textbf{x}$. "
   ]
  },
  {
   "cell_type": "markdown",
   "metadata": {},
   "source": [
    "## Example\n",
    "\n",
    "\\begin{equation}\n",
    " A=\n",
    " \\left( \\begin{array}{cc} \n",
    "1 & - \\frac{1}{3}  \\\\\n",
    "- \\frac{1}{3}  & 1\\\\ \n",
    " \\end{array} \\right),~~~~\n",
    "  \\textbf{b} =\n",
    " \\left( \\begin{array}{c} \n",
    "1  \\\\\n",
    "0\\\\ \n",
    " \\end{array} \\right).\n",
    "\\end{equation}\n",
    "\n",
    "with eigenvectors \n",
    "\n",
    " \\begin{equation}\n",
    "   \\textbf{u}_1=\n",
    "\\frac{1}{\\sqrt{2}} \n",
    "\\cdot\n",
    " \\left( \\begin{array}{c} \n",
    "1  \\\\\n",
    "-1\\\\ \n",
    " \\end{array} \\right),~~~~\n",
    "  \\textbf{u}_2=\n",
    "\\frac{1}{\\sqrt{2}} \n",
    "\\cdot\n",
    " \\left( \\begin{array}{c} \n",
    "1  \\\\\n",
    "1\\\\ \n",
    " \\end{array} \\right).\n",
    "\\end{equation}\n",
    "\n",
    "and eigenvalues\n",
    "\n",
    "\\begin{equation}\n",
    "\\lambda_1=\\frac{4}{3},~~~~\\lambda_2=\\frac{2}{3}.\n",
    "\\end{equation}"
   ]
  },
  {
   "cell_type": "markdown",
   "metadata": {},
   "source": [
    " We will use $qiskit$ command HamiltonianGate where data is a Hermitian matrix $A$ is represented and  time $t=2 \\cdot \\pi /8$ to perform Hamiltonian evolution and use QFT instead of inverse QFT"
   ]
  },
  {
   "cell_type": "code",
   "execution_count": 1,
   "metadata": {},
   "outputs": [],
   "source": [
    "from qiskit import QuantumCircuit\n",
    "from qiskit_aer import AerSimulator, Aer\n",
    "from qiskit.quantum_info import Statevector\n",
    "from qiskit.visualization import plot_histogram\n",
    "from qiskit.visualization import plot_distribution\n",
    "from math import pi\n",
    "from qiskit.quantum_info import Operator\n",
    "from qiskit.circuit.library import HamiltonianGate"
   ]
  },
  {
   "cell_type": "code",
   "execution_count": 2,
   "metadata": {},
   "outputs": [],
   "source": [
    "from qiskit.circuit.library import QFT\n",
    "qft = QFT(2, inverse=False).to_gate()\n",
    "qft.label = \"QFT\"\n",
    "qft_dagger = QFT(2, inverse=True).to_gate()\n",
    "qft_dagger.label = \"QFT†\""
   ]
  },
  {
   "cell_type": "code",
   "execution_count": 3,
   "metadata": {},
   "outputs": [
    {
     "data": {
      "text/html": [
       "<pre style=\"word-wrap: normal;white-space: pre;background: #fff0;line-height: 1.1;font-family: &quot;Courier New&quot;,Courier,monospace\">     ┌───┐                                             ┌──────┐┌─┐   \n",
       "q_0: ┤ H ├───────■─────────────────────────────────────┤0     ├┤M├───\n",
       "     ├───┤       │                                     │  QFT │└╥┘┌─┐\n",
       "q_1: ┤ H ├───────┼──────────────■──────────────■───────┤1     ├─╫─┤M├\n",
       "     └───┘┌──────┴──────┐┌──────┴──────┐┌──────┴──────┐└──────┘ ║ └╥┘\n",
       "q_2: ─────┤ Hamiltonian ├┤ Hamiltonian ├┤ Hamiltonian ├─────────╫──╫─\n",
       "          └─────────────┘└─────────────┘└─────────────┘         ║  ║ \n",
       "c: 2/═══════════════════════════════════════════════════════════╩══╩═\n",
       "                                                                0  1 </pre>"
      ],
      "text/plain": [
       "     ┌───┐                                             ┌──────┐┌─┐   \n",
       "q_0: ┤ H ├───────■─────────────────────────────────────┤0     ├┤M├───\n",
       "     ├───┤       │                                     │  QFT │└╥┘┌─┐\n",
       "q_1: ┤ H ├───────┼──────────────■──────────────■───────┤1     ├─╫─┤M├\n",
       "     └───┘┌──────┴──────┐┌──────┴──────┐┌──────┴──────┐└──────┘ ║ └╥┘\n",
       "q_2: ─────┤ Hamiltonian ├┤ Hamiltonian ├┤ Hamiltonian ├─────────╫──╫─\n",
       "          └─────────────┘└─────────────┘└─────────────┘         ║  ║ \n",
       "c: 2/═══════════════════════════════════════════════════════════╩══╩═\n",
       "                                                                0  1 "
      ]
     },
     "execution_count": 3,
     "metadata": {},
     "output_type": "execute_result"
    }
   ],
   "source": [
    "op = Operator([[1, -1/3],[-1/3, 1]])\n",
    "#op = Operator([[1, 0],[0, 1]])\n",
    "# create gate which evolves according to exp(-i*op*3*pi/4)\n",
    "gate = HamiltonianGate(op,3*pi/4).control()\n",
    "\n",
    "qc = QuantumCircuit(3,2)\n",
    "\n",
    "\n",
    "qc.h([0,1])\n",
    "\n",
    "# apply gate to qubits [0, 1, 2] in circuit\n",
    "qc.append(gate, [0,2])\n",
    "\n",
    "qc.append(gate, [1,2])\n",
    "qc.append(gate, [1,2])\n",
    "\n",
    "\n",
    "# Do inverse QFT on counting qubits\n",
    "qc.append(qft, [0,1])\n",
    "\n",
    "# Measure counting qubits\n",
    "qc.measure([0,1], [0,1])\n",
    "\n",
    "#01 10\n",
    "#qc.decompose().decompose().decompose().draw(fold=120)\n",
    "\n",
    "qc.draw(fold=120)"
   ]
  },
  {
   "cell_type": "markdown",
   "metadata": {},
   "source": [
    "Circuit estimating $U_t$ by Hamiltonian simulation with accuracy of two qubits. \n",
    "The circuit is composed of $3$ qubits, qubits $0$, $1$, represent the control register and qubit $2$ represents   $b=|0 \\rangle$.\n",
    "To estimate the phase $\\theta$ we perform  QFT  to the $2$ control qubits.\n"
   ]
  },
  {
   "cell_type": "code",
   "execution_count": 4,
   "metadata": {},
   "outputs": [
    {
     "name": "stdout",
     "output_type": "stream",
     "text": [
      "\n",
      "Total count are: {'01': 5028, '10': 4972}\n"
     ]
    },
    {
     "data": {
      "image/png": "[encoded data removed]",
      "text/plain": [
       "<Figure size 640x480 with 1 Axes>"
      ]
     },
     "execution_count": 4,
     "metadata": {},
     "output_type": "execute_result"
    }
   ],
   "source": [
    "simulator = Aer.get_backend('qasm_simulator')\n",
    "result=simulator.run(qc.decompose().decompose(),shots=10000).result()\n",
    "counts = result.get_counts()\n",
    "print(\"\\nTotal count are:\",counts)\n",
    "plot_histogram(counts)"
   ]
  },
  {
   "cell_type": "markdown",
   "metadata": {},
   "source": [
    "The measured values correspond to the binary values $10$ and $01$."
   ]
  },
  {
   "cell_type": "code",
   "execution_count": 5,
   "metadata": {},
   "outputs": [],
   "source": [
    "op = Operator([[1, -1/3],[-1/3, 1]])\n",
    "#op = Operator([[1, 0],[0, 1]])\n",
    "# create gate which evolves according to exp(-i*op*3*pi/4)\n",
    "gate = HamiltonianGate(op,3*pi/4).control()\n",
    "\n",
    "gate_daggar = HamiltonianGate(op,3*pi/4).inverse().control()"
   ]
  },
  {
   "cell_type": "markdown",
   "metadata": {},
   "source": [
    "## Conditioned  Rotation and Un-computation\n",
    "\n",
    " We perform conditioned  rotation on the auxiliary state $|0 \\rangle$ with measured two control qubits being $|10 \\rangle$ representing $\\tilde \\lambda_1=2$ and $|01  \\rangle$ representing $\\tilde \\lambda_2=1$, using a conditional $RY$ gate controlled by $\\tilde \\lambda$ represented by qubits $1$ and $2$, then we un-compute. The result is represented in the qubit $3$ in the case the qubit $0$ is one"
   ]
  },
  {
   "cell_type": "code",
   "execution_count": 6,
   "metadata": {},
   "outputs": [
    {
     "data": {
      "text/html": [
       "<pre style=\"word-wrap: normal;white-space: pre;background: #fff0;line-height: 1.1;font-family: &quot;Courier New&quot;,Courier,monospace\">                                                               ┌─────────┐┌───────┐                                                           \n",
       "q_0: ──────────────────────────────────────────────────────────┤ Ry(π/3) ├┤ Ry(π) ├───────────────────────────────────────────────────────────\n",
       "     ┌───┐                                             ┌──────┐└────┬────┘└───┬───┘┌───────┐                                             ┌───┐\n",
       "q_1: ┤ H ├───────■─────────────────────────────────────┤0     ├─────┼─────────■────┤0      ├─────────────────────────────────────■───────┤ H ├\n",
       "     ├───┤       │                                     │  QFT │     │              │  QFT† │                                     │       ├───┤\n",
       "q_2: ┤ H ├───────┼──────────────■──────────────■───────┤1     ├─────■──────────────┤1      ├───────■──────────────■──────────────┼───────┤ H ├\n",
       "     └───┘┌──────┴──────┐┌──────┴──────┐┌──────┴──────┐└──────┘                    └───────┘┌──────┴──────┐┌──────┴──────┐┌──────┴──────┐└───┘\n",
       "q_3: ─────┤ Hamiltonian ├┤ Hamiltonian ├┤ Hamiltonian ├─────────────────────────────────────┤ Hamiltonian ├┤ Hamiltonian ├┤ Hamiltonian ├─────\n",
       "          └─────────────┘└─────────────┘└─────────────┘                                     └─────────────┘└─────────────┘└─────────────┘     </pre>"
      ],
      "text/plain": [
       "                                                               ┌─────────┐┌───────┐                                                           \n",
       "q_0: ──────────────────────────────────────────────────────────┤ Ry(π/3) ├┤ Ry(π) ├───────────────────────────────────────────────────────────\n",
       "     ┌───┐                                             ┌──────┐└────┬────┘└───┬───┘┌───────┐                                             ┌───┐\n",
       "q_1: ┤ H ├───────■─────────────────────────────────────┤0     ├─────┼─────────■────┤0      ├─────────────────────────────────────■───────┤ H ├\n",
       "     ├───┤       │                                     │  QFT │     │              │  QFT† │                                     │       ├───┤\n",
       "q_2: ┤ H ├───────┼──────────────■──────────────■───────┤1     ├─────■──────────────┤1      ├───────■──────────────■──────────────┼───────┤ H ├\n",
       "     └───┘┌──────┴──────┐┌──────┴──────┐┌──────┴──────┐└──────┘                    └───────┘┌──────┴──────┐┌──────┴──────┐┌──────┴──────┐└───┘\n",
       "q_3: ─────┤ Hamiltonian ├┤ Hamiltonian ├┤ Hamiltonian ├─────────────────────────────────────┤ Hamiltonian ├┤ Hamiltonian ├┤ Hamiltonian ├─────\n",
       "          └─────────────┘└─────────────┘└─────────────┘                                     └─────────────┘└─────────────┘└─────────────┘     "
      ]
     },
     "execution_count": 6,
     "metadata": {},
     "output_type": "execute_result"
    }
   ],
   "source": [
    "qc = QuantumCircuit(4)\n",
    "qc.h([1,2])\n",
    "\n",
    "# apply gate to qubits [0, 1, 2] in circuit\n",
    "qc.append(gate, [1,3])\n",
    "\n",
    "qc.append(gate, [2,3])\n",
    "qc.append(gate, [2,3])\n",
    "\n",
    "# Do QFT on counting qubits\n",
    "qc.append(qft, [1,2])\n",
    "\n",
    "#rotate\n",
    "#10\n",
    "qc.cry(pi/3,2,0)\n",
    "#01\n",
    "qc.cry(pi,1,0)\n",
    "#un-computing\n",
    "qc.append(qft_dagger, [1,2])\n",
    "\n",
    "qc.append(gate_daggar, [2,3])\n",
    "qc.append(gate_daggar, [2,3])\n",
    "\n",
    "qc.append(gate_daggar, [1,3])\n",
    "\n",
    "qc.h([1,2])\n",
    "\n",
    "qc.draw(fold=180)"
   ]
  },
  {
   "cell_type": "markdown",
   "metadata": {},
   "source": [
    "The $HHL$ circuit, we perform conditioned  rotation on the auxiliary state $|0 \\rangle$ using a  $RY$ gate controlled by $\\tilde \\lambda$ represented by qubits $1$ and $2$, then we un-compute"
   ]
  },
  {
   "cell_type": "code",
   "execution_count": 7,
   "metadata": {},
   "outputs": [
    {
     "name": "stdout",
     "output_type": "stream",
     "text": [
      "\n",
      "Total count are: {np.str_('0000'): np.float64(0.1875), np.str_('0001'): np.float64(0.562500000000001), np.str_('1000'): np.float64(0.1875), np.str_('1001'): np.float64(0.0625)}\n"
     ]
    },
    {
     "data": {
      "image/png": "[encoded data removed]",
      "text/plain": [
       "<Figure size 700x500 with 1 Axes>"
      ]
     },
     "execution_count": 7,
     "metadata": {},
     "output_type": "execute_result"
    }
   ],
   "source": [
    "simulator = Aer.get_backend('statevector_simulator')\n",
    "result = simulator.run(qc.decompose().decompose()).result()\n",
    "counts = result.get_counts()\n",
    "print(\"\\nTotal count are:\",counts)\n",
    "plot_distribution(counts)"
   ]
  },
  {
   "cell_type": "markdown",
   "metadata": {},
   "source": [
    "The measured result of our small $HHL$ simulation   is represented in the qubit $3$ in the if the qubit $0$ is one, with the probability values $0.562$ and $0.0622$."
   ]
  },
  {
   "cell_type": "markdown",
   "metadata": {},
   "source": [
    "The measured result of our small $HHL$ simulation is  is represented in the qubit $3$ in the case the qubit $0$ is one \n",
    "\n",
    "\\begin{equation}\n",
    " \\textbf{x}^2_m=\\left( \\begin{array}{c} \n",
    "\\frac{0.56}{0.562 + 0.0622} \\\\\n",
    "\\frac{0.0622}{0.562 + 0.062}\\\\ \n",
    " \\end{array} \\right).\n",
    "\\end{equation}\n",
    "\n",
    "with the measured value being\n",
    "\n",
    "\\begin{equation}\n",
    " \\textbf{x}_m=\\left( \\begin{array}{c} \n",
    "0.948869  \\\\\n",
    "0.31567\\\\ \n",
    " \\end{array} \\right)\n",
    " \\approx \n",
    " \\textbf{x}_n=\\left( \\begin{array}{c} \n",
    "0.948683  \\\\\n",
    "0.316228\\\\ \n",
    " \\end{array} \\right).\n",
    "\\end{equation}\n"
   ]
  }
 ],
 "metadata": {
  "kernelspec": {
   "display_name": "dwa",
   "language": "python",
   "name": "python3"
  },
  "language_info": {
   "codemirror_mode": {
    "name": "ipython",
    "version": 3
   },
   "file_extension": ".py",
   "mimetype": "text/x-python",
   "name": "python",
   "nbconvert_exporter": "python",
   "pygments_lexer": "ipython3",
   "version": "3.13.2"
  },
  "orig_nbformat": 4
 },
 "nbformat": 4,
 "nbformat_minor": 2
}
